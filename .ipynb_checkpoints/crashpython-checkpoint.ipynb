{
 "cells": [
  {
   "cell_type": "markdown",
   "metadata": {},
   "source": [
    "# Crash Course on Python\n",
    "\n",
    "by Google cia Coursera\n"
   ]
  },
  {
   "cell_type": "markdown",
   "metadata": {},
   "source": [
    "## Module 1 - Hello Python!\n",
    "\n",
    "In this module we’ll dive into the basics of programming languages and syntax, as well as automation using scripting. We’ll also introduce you to the Python programming language and some of the benefits it offers. Last up, we’ll cover some basic functions and keywords of the language, along with some arithmetic operations."
   ]
  },
  {
   "cell_type": "markdown",
   "metadata": {},
   "source": [
    "### 1.1 What is Python?\n",
    "\n",
    "Python is a programming language that lets you work more quickly and integrate your systems more effectively.\n",
    "\n",
    "#### More about Python\n",
    "\n",
    "##### Using Python on your own\n",
    "\n",
    "The best way to learn any programming language is to practice it on your own as much as you can. If you have Python installed on your computer, you can execute the interpreter by running the python3 command (or just python on Windows), and you can close it by typing exit() or Ctrl-D.\n",
    "\n",
    "If you don’t already have Python installed on your machine, that’s alright. You can still practice by using one of the many online Python interpreters or codepads available online. There’s not much difference between an interpreter and a codepad. An interpreter is more interactive than a codepad, but they both let you execute code and see the results. Below, you’ll find links to some of the most popular online interpreters and codepads. Give them a go to find your favorite.\n",
    "\n",
    "- https://www.python.org/shell/\n",
    "- https://www.onlinegdb.com/online_python_interpreter\n",
    "- https://repl.it/languages/python3\n",
    "- https://www.tutorialspoint.com/execute_python3_online.php\n",
    "- https://rextester.com/l/python3_online_compiler\n",
    "- https://trinket.io/python3\n",
    "\n",
    "##### Additional Python resources\n",
    "\n",
    "While this course will give you information about how Python works and how to write scripts in Python, you’ll likely want to find out more about specific parts of the language. Here are some great ways to help you find additional info: \n",
    "\n",
    "- Read the [official Python documentation](https://docs.python.org/3/).\n",
    "- Search for answers or ask a question on [Stack Overflow](https://stackoverflow.com/). \n",
    "- Subscribe to the Python [tutor](https://mail.python.org/mailman/listinfo/tutor) mailing list, where you can ask questions and collaborate with other Python learners.\n",
    "- Subscribe to the [Python-announce](https://mail.python.org/mailman3/lists/python-announce-list.python.org/) mailing list to read about the latest updates in the language.\n",
    "\n",
    "##### Python history and current status\n",
    "\n",
    "Python was released almost 30 years ago and has a rich history. You can read more about it on the [History of Python](https://www.wikiwand.com/en/History_of_Python) Wikipedia page or in the section on the [history of the software](https://docs.python.org/3.0/license.html) from the official Python documentation.\n",
    "Python has recently been called the fastest growing programming language. If you're interested in why this is and how it’s measured, you can find out more in these articles:\n",
    "\n",
    "- [The Incredible Growth of Python](https://stackoverflow.blog/2017/09/06/incredible-growth-python/) (Stack Overflow)\n",
    "- [Why is Python Growing So Quickly - Future Trends](https://www.netguru.com/blog/future-of-python) (Netguru)\n",
    "- [By the numbers: Python community trends in 2017/2018](https://opensource.com/article/18/5/numbers-python-community-trends) (Opensource.com)\n",
    "- [Developer Survey Results 2018](https://insights.stackoverflow.com/survey/2018#technology) (Stack Overflow)\n"
   ]
  },
  {
   "cell_type": "markdown",
   "metadata": {},
   "source": [
    "### 1.2 First Programming Concepts Cheat Sheet\n",
    "\n",
    "\n",
    "#### Functions and Keywords\n",
    "\n",
    "Functions and keywords are the building blocks of a language’s syntax.\n",
    "\n",
    "Functions are pieces of code that perform a unit of work. In the examples we've seen so far, we've only encountered the `print()` function, which prints a message to the screen. We'll learn about a lot of other functions in later lessons but, if you're too curious to wait until then, you can discover all the functions available here.\n",
    "\n",
    "Keywords are reserved words that are used to construct instructions. We briefly encountered for and in in our first Python example, and we'll use a bunch of other keywords as we go through the course. For reference, these are all the reserved keywords:\n",
    "\n",
    "\n",
    "`False   class     finally  is        return `\\\n",
    "`None    continue  for      lambda    try`    \\\n",
    "`True    def       from     nonlocal  while`  \\\n",
    "`and     del       global   not       with   `\\\n",
    "`as      elif      if       or        yield  `\\\n",
    "`assert  else      import   pass      break  `\\\n",
    "`except  in        raise                                        `                    \n",
    "\n",
    "\n",
    "You don't need to learn this list; we'll dive into each keyword as we encounter them. In the meantime, you can see examples of keyword usage here.\n",
    "\n",
    "#### Arithmetic operators\n",
    "\n",
    "Python can operate with numbers using the usual mathematical operators, and some special operators, too. These are all of them (we'll explore the last two in later videos).\n",
    "\n",
    "- `a + b` = Adds a and b\n",
    "- `a - b` = Subtracts b from a\n",
    "- `a * b` = Multiplies a and b\n",
    "- `a / b` = Divides a by b\n",
    "- `a ** b` = Elevates a to the power of b. For non integer values of b, this becomes a root (i.e. `a**(1/2)` is the square root of a)\n",
    "- `a // b` = The integer part of the integer division of a by b\n",
    "- `a % b` = The remainder part of the integer division of a by b\n"
   ]
  },
  {
   "cell_type": "markdown",
   "metadata": {},
   "source": [
    "## Module 2 - Basic Python Syntax\n",
    "\n",
    "In this module you’ll learn about different data types in Python, how to identify them, and how to convert between them. You’ll also learn how to use variables to assign data and to reference variables. You’ll deep dive into functions: how to define them, pass them parameters, and have them return information. You’ll explore the concepts of code reuse, code style, and refactoring complex code, along with effectively using code comments. Finally, you’ll learn about comparing data using equality and logical operators, and leveraging these to build complex branching scripts using if statements."
   ]
  },
  {
   "cell_type": "markdown",
   "metadata": {},
   "source": [
    "### 2.1 Expressions and Variables\n",
    "\n",
    "####  2.1.1 Data Types\n",
    "\n",
    "In Python, text in between quotes -- either single or double quotes -- is a `string` data type. An `integer` is a whole number, without a fraction, while a `float` is a real number that can contain a fractional part. For example, 1, 7, 342 are all integers, while 5.3, 3.14159 and 6.0 are all floats. When attempting to mix incompatible data types, you may encounter a `TypeError`. You can always check the data type of something using the `type()` function.\n",
    "\n",
    "####  2.1.2 Variables\n",
    "\n",
    "*Variables* are names that we give to certain values in our programs. \n",
    "\n",
    "Think of variables as containers for data. When you create a variable in your code, your computer reserves a chunk of its own memory to store that value. This lets the computer access the variable later to read or modify the value. Let's see this in action:\n",
    "\n",
    "**Example:** Imagine a simple script that calculates the area of\n",
    "a rectangle using the formula area equals length times width.\n",
    "Area, length and width can all be represented by variables like in the code bellow. In this script we are creating three variables and storing different values in each. "
   ]
  },
  {
   "cell_type": "code",
   "execution_count": 1,
   "metadata": {},
   "outputs": [
    {
     "name": "stdout",
     "output_type": "stream",
     "text": [
      "20\n"
     ]
    }
   ],
   "source": [
    "length = 10\n",
    "width = 2\n",
    "area = length * width\n",
    "print(area)"
   ]
  },
  {
   "cell_type": "markdown",
   "metadata": {},
   "source": [
    "*PS:* The process of storing a value inside a variable is called assignment"
   ]
  },
  {
   "cell_type": "markdown",
   "metadata": {},
   "source": [
    "Generally, you can name variables whatever you like but there are some restrictions:\n",
    "\n",
    "1. Don't use keywords or functions that Python reserves for its own\n",
    "2. Don't use spaces\n",
    "3. Must start with a letter or an underscore(_)\n",
    "4. Must be made up of only letters, numbers, and underscores (_)\n",
    "\n",
    "**Examples:**\n",
    "\n",
    "- i_am_a_variable is valid\n",
    "- i_am_a_variable2 is valid\n",
    "- 1_am_a_variable is invalid since it violates rule 3.\n",
    "- apples_&_oranges is invalid since it violates rule 4.\n",
    "\n",
    "Python variables are case sensitive, so capitalization matters.\n",
    "Lowercase name, uppercase name and all caps name are all valid and different variable names. "
   ]
  },
  {
   "cell_type": "markdown",
   "metadata": {},
   "source": [
    "#### 2.1.3 Expressions, Numbers, and Type Conversions\n",
    "\n",
    "We saw how we can't use the plus operator between an integer and a string because they're different data types. But what happens when we try to operate with an integer and a float instead, let's find out."
   ]
  },
  {
   "cell_type": "code",
   "execution_count": 2,
   "metadata": {},
   "outputs": [
    {
     "name": "stdout",
     "output_type": "stream",
     "text": [
      "15.5\n"
     ]
    }
   ],
   "source": [
    "print(7+8.5)"
   ]
  },
  {
   "cell_type": "markdown",
   "metadata": {},
   "source": [
    "Error-free, Python has no problem performing this operation. But what's up with that, aren't integer and a float two different data types? They sure are but there's a lot happening under the hood here. Behind the scenes the computer is busy automatically converting our integer seven into a float seven. This lets Python then add together the values to return results that is also a float.\n",
    "\n",
    "*We call this process, implicit conversion.*\n",
    "\n",
    "The interpreter automatically converts one data type into another.\n",
    "We've called this out before, but it's worth highlighting again that\n",
    "Python operations aren't just restricted to numbers. You can also use the plus operator to add together strings. "
   ]
  },
  {
   "cell_type": "code",
   "execution_count": 3,
   "metadata": {},
   "outputs": [
    {
     "name": "stdout",
     "output_type": "stream",
     "text": [
      "This is pretty neat!\n"
     ]
    }
   ],
   "source": [
    "print('This ' + 'is ' + 'pretty '+'neat!')"
   ]
  },
  {
   "cell_type": "markdown",
   "metadata": {},
   "source": [
    "So what if you really want to combine a string and a number, is it possible? It sure is but only with an explicit conversion. In Python, to convert between one data type and another, we call a function with\n",
    "the name of the type we're converting to. Let's see how this works. "
   ]
  },
  {
   "cell_type": "code",
   "execution_count": 4,
   "metadata": {},
   "outputs": [
    {
     "name": "stdout",
     "output_type": "stream",
     "text": [
      "The area of the triangle is: 9.0\n"
     ]
    }
   ],
   "source": [
    "base = 6\n",
    "height = 3\n",
    "area = (base*height)/2\n",
    "print('The area of the triangle is: ' + str(area))"
   ]
  },
  {
   "cell_type": "markdown",
   "metadata": {},
   "source": [
    "#### 2.1.4 Implicit vs Explicit Conversion\n",
    "\n",
    "As we saw earlier, some data types can be mixed and matched due to implicit conversion. Implicit conversion is where the interpreter helps us out and automatically converts one data type into another, without having to explicitly tell it to do so.\n",
    "\n",
    "By contrast, explicit conversion is where we manually convert from one data type to another by calling the relevant function for the data type we want to convert to. We used this in our video example when we wanted to print a number alongside some text. Before we could do that, we needed to call the `str()` function to convert the number into a string. Once the number was explicitly converted to a string, we could join it with the rest of our textual string and print the result."
   ]
  },
  {
   "cell_type": "markdown",
   "metadata": {},
   "source": [
    "#### 2.1.5 Practice Quiz: Expressions and Variables\n",
    "\n",
    "1. In this scenario, two friends are eating dinner at a restaurant. The bill comes in the amount of 47.28 dollars. The friends decide to split the bill evenly between them, after adding 15% tip for the service. Calculate the tip, the total amount to pay, and each friend's share, then output a message saying \"Each person needs to pay: \" followed by the resulting number."
   ]
  },
  {
   "cell_type": "code",
   "execution_count": 5,
   "metadata": {},
   "outputs": [
    {
     "name": "stdout",
     "output_type": "stream",
     "text": [
      "Each person needs to pay: 27.186\n"
     ]
    }
   ],
   "source": [
    "bill = 47.28\n",
    "tip = bill * 0.15\n",
    "total = bill + tip\n",
    "share = total/2\n",
    "print(\"Each person needs to pay: \" + str(share))"
   ]
  },
  {
   "cell_type": "markdown",
   "metadata": {},
   "source": [
    "2. This code is supposed to take two numbers, divide one by another so that the result is equal to 1, and display the result on the screen. Unfortunately, there is an error in the code. Find the error and fix it, so that the output is correct."
   ]
  },
  {
   "cell_type": "code",
   "execution_count": 6,
   "metadata": {},
   "outputs": [
    {
     "name": "stdout",
     "output_type": "stream",
     "text": [
      "1.0\n"
     ]
    }
   ],
   "source": [
    "numerator = 10\n",
    "denominator = 10  # It was 0 before. We can't divide by 0\n",
    "result = numerator / denominator\n",
    "print(result)"
   ]
  },
  {
   "cell_type": "markdown",
   "metadata": {},
   "source": [
    "3. Question 3\n",
    "\n",
    "Combine the variables to display the sentence \"How do you like Python so far?\" "
   ]
  },
  {
   "cell_type": "code",
   "execution_count": 7,
   "metadata": {},
   "outputs": [
    {
     "name": "stdout",
     "output_type": "stream",
     "text": [
      "How do you like Python so far?\n"
     ]
    }
   ],
   "source": [
    "word1 = \"How\"\n",
    "word2 = \"do\"\n",
    "word3 = \"you\"\n",
    "word4 = \"like\"\n",
    "word5 = \"Python\"\n",
    "word6 = \"so\"\n",
    "word7 = \"far?\"\n",
    "\n",
    "print(word1 + ' ' + word2 + ' ' + word3 + ' ' + word4 + ' ' + word5 + ' ' + word6 + ' ' + word7)"
   ]
  },
  {
   "cell_type": "markdown",
   "metadata": {},
   "source": [
    "4. This code is supposed to display \"2 + 2 = 4\" on the screen, but there is an error. Find the error in the code and fix it, so that the output is correct."
   ]
  },
  {
   "cell_type": "code",
   "execution_count": 8,
   "metadata": {},
   "outputs": [
    {
     "name": "stdout",
     "output_type": "stream",
     "text": [
      "2 + 2 = 4\n"
     ]
    }
   ],
   "source": [
    "# print(\"2 + 2 = \" + (2 + 2))\n",
    "\n",
    "# we need to do an explicit conversion\n",
    "\n",
    "print(\"2 + 2 = \" + str((2 + 2)))"
   ]
  },
  {
   "cell_type": "markdown",
   "metadata": {},
   "source": [
    "5. What do you call a combination of numbers, symbols, or other values that produce a result when evaluated? Ans: An expression."
   ]
  },
  {
   "cell_type": "markdown",
   "metadata": {},
   "source": [
    "### 2.2 Functions\n",
    "\n",
    "#### 2.2.1 Defining Functions\n",
    "\n",
    "We looked at a few examples of built-in functions in Python(`str()`, `type()`, `print()`), but being able to define your own functions is incredibly powerful. \n",
    "\n",
    "We start a function definition with the `def` keyword, followed by the `name` we want to give our function. After the name, we have the `parameters`, also called `arguments`, for the function enclosed in parentheses. A function can have no parameters, or it can have multiple parameters. Parameters allow us to call a function and pass it data, with the data being available inside the function as variables with the same name as the parameters. Lastly, we put a colon at the end of the line.\n",
    "\n",
    "After the colon, the `function body` starts. It’s important to note that in Python the function body is delimited by indentation. This means that all code indented to the right following a function definition is part of the function body. The first line that’s no longer indented is the boundary of the function body. It’s up to you how many spaces you use when indenting -- just make sure to be consistent. So if you choose to indent with four spaces, you need to use four spaces everywhere in your code.\n",
    "\n",
    "`def function_name(arg1,arg2,...,argn):\n",
    "     function_body`\n",
    "\n",
    "**Example**"
   ]
  },
  {
   "cell_type": "code",
   "execution_count": 9,
   "metadata": {},
   "outputs": [
    {
     "name": "stdout",
     "output_type": "stream",
     "text": [
      "Welcome, Kay\n",
      "You are part of IT Support\n"
     ]
    }
   ],
   "source": [
    "def greeting(name, department):\n",
    "    print('Welcome, '+ name)\n",
    "    print('You are part of ' + department)\n",
    "    \n",
    "greeting('Kay', 'IT Support')"
   ]
  },
  {
   "cell_type": "markdown",
   "metadata": {},
   "source": [
    "#### 2.2.2 Returning Values\n",
    "\n",
    "Sometimes we don't want a function to simply run and finish. We may want a function to manipulate data we passed it and then return the result to us. This is where the concept of return values comes in handy. We use the `return` keyword in a function, which tells the function to pass data back. When we call the function, we can store the returned value in a variable. Return values allow our functions to be more flexible and powerful, so they can be reused and called multiple times.\n",
    "\n",
    "Functions can even return multiple values. Just don't forget to store all returned values in variables! You could also have a function return nothing, in which case the function simply exits.\n",
    "\n",
    "**Examples**"
   ]
  },
  {
   "cell_type": "code",
   "execution_count": 10,
   "metadata": {},
   "outputs": [
    {
     "name": "stdout",
     "output_type": "stream",
     "text": [
      "The sum of both areas is: 20.5\n"
     ]
    }
   ],
   "source": [
    "def area_triangle(base,height):\n",
    "    return base*height/2\n",
    "\n",
    "area_a = area_triangle(5,4)\n",
    "area_b = area_triangle(7,3)\n",
    "print('The sum of both areas is: ' + str(area_a + area_b))"
   ]
  },
  {
   "cell_type": "code",
   "execution_count": 11,
   "metadata": {},
   "outputs": [
    {
     "name": "stdout",
     "output_type": "stream",
     "text": [
      "11715\n"
     ]
    }
   ],
   "source": [
    "def get_seconds(hours, minutes, seconds):\n",
    "  return 3600*hours + 60*minutes + seconds\n",
    "\n",
    "amount_a = get_seconds(2,30,0)\n",
    "amount_b = get_seconds(0,45,15)\n",
    "result = amount_a + amount_b\n",
    "print(result)"
   ]
  },
  {
   "cell_type": "code",
   "execution_count": 12,
   "metadata": {},
   "outputs": [
    {
     "name": "stdout",
     "output_type": "stream",
     "text": [
      "1 23 20\n"
     ]
    }
   ],
   "source": [
    "def convert_seconds(seconds):\n",
    "    hours = seconds // 3600\n",
    "    minutes = (seconds - hours*3600) // 60\n",
    "    remaining_seconds = seconds- hours*3600 - minutes*60\n",
    "    return hours, minutes, remaining_seconds\n",
    "\n",
    "hours, minutes, seconds = convert_seconds(5000)\n",
    "print(hours, minutes, seconds)"
   ]
  },
  {
   "cell_type": "markdown",
   "metadata": {},
   "source": [
    "#### 2.2.3 The Principles of Code Reuse\n",
    "\n",
    "Intead of"
   ]
  },
  {
   "cell_type": "code",
   "execution_count": 13,
   "metadata": {},
   "outputs": [
    {
     "name": "stdout",
     "output_type": "stream",
     "text": [
      "June has 30 days.\n",
      "July has 31 days.\n"
     ]
    }
   ],
   "source": [
    "june_days = 30\n",
    "print(\"June has \" + str(june_days) + \" days.\")\n",
    "july_days = 31\n",
    "print(\"July has \" + str(july_days) + \" days.\")"
   ]
  },
  {
   "cell_type": "markdown",
   "metadata": {},
   "source": [
    "we can use"
   ]
  },
  {
   "cell_type": "code",
   "execution_count": 14,
   "metadata": {},
   "outputs": [
    {
     "name": "stdout",
     "output_type": "stream",
     "text": [
      "June has 30 days.\n",
      "July has 31 days.\n"
     ]
    }
   ],
   "source": [
    "def month_days(month,days):\n",
    "    print(month + ' has ' + str(days) + ' days.')\n",
    "    \n",
    "month_days('June',30)\n",
    "month_days('July',31)"
   ]
  },
  {
   "cell_type": "markdown",
   "metadata": {},
   "source": [
    "#### 2.2.4 Code Style\n",
    "\n",
    "On the whole, having good or bad style when you write code doesn't make much difference between a script succeeding or crashing, but it can make a big difference for the people who use it and contribute to it.\n",
    "Poor programming style can make life difficult for the IT specialists or system administrators who have to read the script after it's written or make changes to it. So it works with a new system. Bad style can even give the scripts author a headache if it's been awhile since they've wrote it. Imagine having to rewrite your own code because it's too messy to understand. On the flip side, good style can make a script look almost like natural human language. It can make the scripts intent and construction immediately clear to the reader. Goods style makes life easier for people who have to maintain the code and helps them\n",
    "understand what it does and how it does it. It can also reduce errors since it makes updating the code easier and more straightforward\n",
    "and most importantly good style makes you look cool, right? \n",
    "\n",
    "Although there are no hard and fast rules that apply to every programming language and situation, keeping a few principles in mind will go a long way to creating good well styled code. \n",
    "\n",
    "1. self-documenting code: written in a way that's readable and doesn't conceal its intent\n",
    "\n",
    "**Example: bad style**"
   ]
  },
  {
   "cell_type": "code",
   "execution_count": 15,
   "metadata": {},
   "outputs": [
    {
     "name": "stdout",
     "output_type": "stream",
     "text": [
      "78.5\n"
     ]
    }
   ],
   "source": [
    "def calculate(d):\n",
    "    q = 3.14\n",
    "    z = q*(d**2)\n",
    "    print(z)\n",
    "    \n",
    "calculate(5)"
   ]
  },
  {
   "cell_type": "markdown",
   "metadata": {},
   "source": [
    "It has no clue about it can be used for.\n",
    "\n",
    "\n",
    "In programming lingo, when we re-write code to be more self-documenting, we call this process **refactoring**. So how would it look if we refactored this code? "
   ]
  },
  {
   "cell_type": "code",
   "execution_count": 16,
   "metadata": {},
   "outputs": [
    {
     "name": "stdout",
     "output_type": "stream",
     "text": [
      "78.5\n"
     ]
    }
   ],
   "source": [
    "def circle_area(radius):\n",
    "    pi = 3.14\n",
    "    area = pi*(radius**2)\n",
    "    print(area)\n",
    "    \n",
    "circle_area(5)"
   ]
  },
  {
   "cell_type": "markdown",
   "metadata": {},
   "source": [
    "Now, the names of the variable reflects their purpouses.\n",
    "\n",
    "When good naming and clean organization can't make the code clear,\n",
    "you can add a bit of explanatory texts to the code. You do this by adding what we call a comment. In Python, comments are indicated by the hash character. When your computer sees a hash character and understands that it should ignore everything that comes after\n",
    "that character on that line.\n",
    "\n",
    "**Example:**"
   ]
  },
  {
   "cell_type": "code",
   "execution_count": 17,
   "metadata": {},
   "outputs": [
    {
     "name": "stdout",
     "output_type": "stream",
     "text": [
      "The area is 30\n"
     ]
    }
   ],
   "source": [
    "def rectangle_area(base, height):\n",
    "    area = base*height  # the area is base*height\n",
    "    print(\"The area is \" + str(area))\n",
    "\n",
    "rectangle_area(5,6)"
   ]
  },
  {
   "cell_type": "markdown",
   "metadata": {},
   "source": [
    "#### 2.2.5 Practice Quiz: Functions\n",
    "\n",
    "1. This function converts miles to kilometers (km).\n",
    "\n",
    "    1. Complete the function to return the result of the conversion\n",
    "    2. Call the function to convert the trip distance from miles to kilometers\n",
    "    3. Fill in the blank to print the result of the conversion\n",
    "    4. Calculate the round-trip in kilometers by doubling the result, and fill in the blank to print the result"
   ]
  },
  {
   "cell_type": "code",
   "execution_count": 18,
   "metadata": {},
   "outputs": [
    {
     "name": "stdout",
     "output_type": "stream",
     "text": [
      "The distance in kilometers is 88.0\n",
      "The round-trip in kilometers is 176.0\n"
     ]
    }
   ],
   "source": [
    "# 1) Complete the function to return the result of the conversion\n",
    "def convert_distance(miles):\n",
    "    return miles * 1.6  # approximately 1.6 km in 1 mile\n",
    "\n",
    "my_trip_miles = 55\n",
    "\n",
    "# 2) Convert my_trip_miles to kilometers by calling the function above\n",
    "my_trip_km = convert_distance(my_trip_miles)\n",
    "\n",
    "# 3) Fill in the blank to print the result of the conversion\n",
    "print(\"The distance in kilometers is \" + str(my_trip_km))\n",
    "\n",
    "# 4) Calculate the round-trip in kilometers by doubling the result,\n",
    "#    and fill in the blank to print the result\n",
    "print(\"The round-trip in kilometers is \" + str(2*my_trip_km))"
   ]
  },
  {
   "cell_type": "markdown",
   "metadata": {},
   "source": [
    "2. This function compares two numbers and returns them in increasing order.\n",
    "\n",
    "    1. Fill in the blanks, so the print statement displays the result of the function call in order.\n",
    "\n",
    "Hint: if a function returns multiple values, don't forget to store these values in multiple variables"
   ]
  },
  {
   "cell_type": "code",
   "execution_count": 19,
   "metadata": {},
   "outputs": [
    {
     "name": "stdout",
     "output_type": "stream",
     "text": [
      "99 100\n"
     ]
    }
   ],
   "source": [
    "# This function compares two numbers and returns them\n",
    "# in increasing order.\n",
    "def order_numbers(number1, number2):\n",
    "    if number2 > number1:\n",
    "        return number1, number2\n",
    "    else:\n",
    "        return number2, number1\n",
    "\n",
    "# 1) Fill in the blanks so the print statement displays the result\n",
    "#    of the function call\n",
    "smaller, bigger = order_numbers(100, 99)\n",
    "print(smaller, bigger)"
   ]
  },
  {
   "cell_type": "markdown",
   "metadata": {},
   "source": [
    "3. What are the values passed into functions as input called?\n",
    "Ans: *Parameters*\n",
    "\n",
    "\n",
    "4. Let's revisit our lucky_number function. We want to change it, so that instead of printing the message, it returns the message. This way, the calling line can print the message, or do something else with it if needed. Fill in the blanks to complete the code to make it work."
   ]
  },
  {
   "cell_type": "code",
   "execution_count": 20,
   "metadata": {},
   "outputs": [
    {
     "name": "stdout",
     "output_type": "stream",
     "text": [
      "Hello Kay. Your lucky number is 27\n",
      "Hello Cameron. Your lucky number is 63\n"
     ]
    }
   ],
   "source": [
    "def lucky_number(name):\n",
    "    number = len(name) * 9\n",
    "    message = \"Hello \" + name + \". Your lucky number is \" + str(number)\n",
    "    return message\n",
    "   \n",
    "print(lucky_number(\"Kay\"))\n",
    "print(lucky_number(\"Cameron\"))"
   ]
  },
  {
   "cell_type": "markdown",
   "metadata": {},
   "source": [
    "### 2.3 Conditionals\n",
    "\n",
    "#### 2.3.1 Comparing Things\n",
    "\n",
    "In Python, we can use comparison operators to compare values. When a comparison is made, Python returns a boolean result, or simply a True or False. \n",
    "\n",
    "- To check if two values are the same, we can use the equality operator: `==` \n",
    "- To check if two values are not the same, we can use the not equals operator: `!=` \n",
    "\n",
    "We can also check if values are greater than or lesser than each other using `>` and `<`. If you try to compare data types that aren’t compatible, like checking if a string is greater than an integer, Python will throw a TypeError. \n",
    "\n",
    "We can make very complex comparisons by joining statements together using logical operators with our comparison operators. These logical operators are `and`, `or`, and `not`. When using the `and` operator, both sides of the statement being evaluated must be true for the whole statement to be true. When using the `or` operator, if either side of the comparison is true, then the whole statement is true. Lastly, the `not` operator simply inverts the value of the statement immediately following it. So if a statement evaluates to `True`, and we put the `not` operator in front of it, it would become `False`.\n"
   ]
  },
  {
   "cell_type": "code",
   "execution_count": 21,
   "metadata": {},
   "outputs": [
    {
     "name": "stdout",
     "output_type": "stream",
     "text": [
      "True\n",
      "False\n",
      "True\n",
      "True\n",
      "False\n",
      "True\n",
      "True\n"
     ]
    }
   ],
   "source": [
    "print(10>1)\n",
    "print(\"cat\" == \"dog\")\n",
    "print(1 != 2)\n",
    "# print(1 < '1') reults in a Error\n",
    "print(\"cat\" > \"Cat\")\n",
    "print('Yellow'>'Cyan' and 'Brown' > 'Magenta') \n",
    "print(25 > 50 or 1 != 2)\n",
    "print(not 42 == 'Answer')"
   ]
  },
  {
   "cell_type": "markdown",
   "metadata": {},
   "source": [
    "#### 2.3.2 Branching with if Statements\n",
    "\n",
    "We can use the concept of **branching** to have our code alter its execution sequence depending on the values of variables. We can use an `if` statement to evaluate a comparison. We start with the `if` keyword, followed by our comparison. We end the line with a colon. The `body` of the `if` statement is then indented to the right. If the comparison is True, the code inside the if body is executed. If the comparison evaluates to False, then the code block is skipped and will not be run.\n",
    "\n",
    "**Example**"
   ]
  },
  {
   "cell_type": "code",
   "execution_count": 22,
   "metadata": {},
   "outputs": [],
   "source": [
    "def hint_username(username):\n",
    "    if len(username) < 3:\n",
    "        print('Invalid username. Must be at least 3 characters long')"
   ]
  },
  {
   "cell_type": "code",
   "execution_count": 23,
   "metadata": {},
   "outputs": [],
   "source": [
    "def is_positive(number):\n",
    "    if number > 0:\n",
    "        return True"
   ]
  },
  {
   "cell_type": "markdown",
   "metadata": {},
   "source": [
    "#### 2.3.3 else Statements and the Modulo Operator\n",
    "\n",
    "We just covered the `if` statement, which executes code if an evaluation is true and skips the code if it’s false. But what if we wanted the code to do something different if the evaluation is false? We can do this using the `else` statement. The `else` statement follows an `if` block, and is composed of the keyword `else` followed by a colon. The `body` of the `else` statement is indented to the right, and will be expected if the above `if` statement doesn’t execute.\n",
    "\n",
    "\n",
    "**Example:**"
   ]
  },
  {
   "cell_type": "code",
   "execution_count": 24,
   "metadata": {},
   "outputs": [],
   "source": [
    "def hint_username(username):\n",
    "    if len(username) < 3:\n",
    "        print('Invalid username. Must be at least 3 characters long')\n",
    "    else:\n",
    "        print('Valid username')"
   ]
  },
  {
   "cell_type": "code",
   "execution_count": 25,
   "metadata": {},
   "outputs": [],
   "source": [
    "def is_positive(number):\n",
    "    if number > 0:\n",
    "        return True\n",
    "    else:\n",
    "        return False"
   ]
  },
  {
   "cell_type": "markdown",
   "metadata": {},
   "source": [
    "But the `else` statement doesn't necessarily have to be used.\n",
    "\n",
    "**Example:**"
   ]
  },
  {
   "cell_type": "code",
   "execution_count": 26,
   "metadata": {},
   "outputs": [],
   "source": [
    "def is_even(number):\n",
    "    if number % 2 ==0:\n",
    "        return True\n",
    "    return False"
   ]
  },
  {
   "cell_type": "markdown",
   "metadata": {},
   "source": [
    "In the Example above we touched on the modulo operator, which is represented by the percent sign: %. This operator performs integer division, but only returns the remainder of this division operation. If we’re dividing 5 by 2, the quotient is 2, and the remainder is 1. Two 2s can go into 5, leaving 1 left over. So 5%2 would return 1. Dividing 10 by 5 would give us a quotient of 2 with no remainder, since 5 can go into 10 twice with nothing left over. In this case, 10%2 would return 0, as there is no remainder."
   ]
  },
  {
   "cell_type": "markdown",
   "metadata": {},
   "source": [
    "#### 2.3.4 More Complex Branching with elif Statements\n",
    "\n",
    "Building off of the `if` and `else` blocks, which allow us to branch our code depending on the evaluation of one statement, the `elif` statement allows us even more comparisons to perform more complex branching. Very similar to the `if` statements, an `elif` statement starts with the `elif` keyword, followed by a comparison to be evaluated. This is followed by a colon, and then the code block on the next line, indented to the right. An `elif` statement must follow an `if` statement, and will only be evaluated if the `if` statement was evaluated as `false`. You can include multiple `elif` statements to build complex branching in your code to do all kinds of powerful things!\n",
    "\n",
    "**Examples**"
   ]
  },
  {
   "cell_type": "code",
   "execution_count": 27,
   "metadata": {},
   "outputs": [],
   "source": [
    "def hint_username(username):\n",
    "    if len(username) < 3:\n",
    "        print('Invalid username. Must be at least 3 characters long')\n",
    "    elif len(username) > 15:\n",
    "        print('Invalid username. Must be at most 15 characters long')\n",
    "    else:\n",
    "        print('Valid username')"
   ]
  },
  {
   "cell_type": "code",
   "execution_count": 28,
   "metadata": {},
   "outputs": [
    {
     "name": "stdout",
     "output_type": "stream",
     "text": [
      "Positive\n",
      "Zero\n",
      "Negative\n"
     ]
    }
   ],
   "source": [
    "# The number_group function should return \"Positive\" if \n",
    "# the number received is positive, \"Negative\" if it's \n",
    "# negative, and \"Zero\" if it's 0. Can you fill in the \n",
    "# gaps to make that happen?\n",
    "\n",
    "def number_group(number):\n",
    "    if number>0:\n",
    "        return \"Positive\"\n",
    "    elif number<0:\n",
    "        return \"Negative\"\n",
    "    else:\n",
    "        return \"Zero\"\n",
    "\n",
    "print(number_group(10)) #Should be Positive\n",
    "print(number_group(0))  #Should be Zero\n",
    "print(number_group(-5)) #Should be Negative"
   ]
  },
  {
   "cell_type": "markdown",
   "metadata": {},
   "source": [
    "#### 2.3.5 Conditionals Cheat Sheet\n",
    "\n",
    "##### Conditionals Cheat Sheet\n",
    "\n",
    "We took a look at some of the built-in Python operators that allow us to compare values, and some logical operators we can use to combine values. We also learned how to use operators in if-else-elif blocks. \n",
    "\n",
    "It’s a lot to learn but, with practice, it gets easier to remember it all. In the meantime, this handy cheat sheet gives you all the information you need at a glance. \n",
    "\n",
    "\n",
    "*Comparison operators:*\n",
    "\n",
    "- `a == b`: a is equal to b\n",
    "- `a != b`: a is different than b\n",
    "- `a < b`: a is smaller than b\n",
    "- `a <= b`: a is smaller or equal to b\n",
    "- `a > b`: a is bigger than b\n",
    "- `a >= b`: a is bigger or equal to b\n",
    "\n",
    "*Logical operators:*\n",
    "\n",
    "- `a and b`: True if both a and b are True. False otherwise.\n",
    "- `a or b`: True if either a or b or both are True. False if both are False.\n",
    "- `not a`: True if a is False, False if a is True.\n",
    "\n",
    "##### Branching blocks\n",
    "\n",
    "In Python, we branch our code using `if`, `else` and `elif`. This is the branching syntax:\n",
    "\n",
    "`if condition1:\n",
    "    if-block\n",
    "elif condition2:\n",
    "    elif-block\n",
    "else:\n",
    "    else-block`\n",
    "    \n",
    "*Remember:* The if-block will be executed if condition1 is True. The elif-block will be executed if condition1 is False and condition2 is True. The else block will be executed when all the specified conditions are false."
   ]
  },
  {
   "cell_type": "markdown",
   "metadata": {},
   "source": [
    "### 2.4 Graded Assessment\n",
    "\n",
    "1. Complete the function by filling in the missing parts. The color_translator function receives the name of a color, then prints its hexadecimal value. Currently, it only supports the three additive primary colors (red, green, blue), so it returns \"unknown\" for all other colors."
   ]
  },
  {
   "cell_type": "code",
   "execution_count": 29,
   "metadata": {},
   "outputs": [
    {
     "name": "stdout",
     "output_type": "stream",
     "text": [
      "#0000ff\n",
      "unknown\n",
      "#ff0000\n",
      "unknown\n",
      "#00ff00\n",
      "unknown\n"
     ]
    }
   ],
   "source": [
    "def color_translator(color):\n",
    "    if color == \"red\":\n",
    "        hex_color = \"#ff0000\"\n",
    "    elif color == \"green\":\n",
    "        hex_color = \"#00ff00\"\n",
    "    elif color == \"blue\":\n",
    "        hex_color = \"#0000ff\"\n",
    "    else:\n",
    "        hex_color = \"unknown\"\n",
    "    return hex_color\n",
    "\n",
    "print(color_translator(\"blue\")) # Should be #0000ff\n",
    "print(color_translator(\"yellow\")) # Should be unknown\n",
    "print(color_translator(\"red\")) # Should be #ff0000\n",
    "print(color_translator(\"black\")) # Should be unknown\n",
    "print(color_translator(\"green\")) # Should be #00ff00\n",
    "print(color_translator(\"\")) # Should be unknown"
   ]
  },
  {
   "cell_type": "markdown",
   "metadata": {},
   "source": [
    "2. What's the value of this Python expression: \"big\" > \"small\""
   ]
  },
  {
   "cell_type": "code",
   "execution_count": 30,
   "metadata": {},
   "outputs": [
    {
     "data": {
      "text/plain": [
       "False"
      ]
     },
     "execution_count": 30,
     "metadata": {},
     "output_type": "execute_result"
    }
   ],
   "source": [
    "\"big\" > \"small\""
   ]
  },
  {
   "cell_type": "markdown",
   "metadata": {},
   "source": [
    "3. What is the elif keyword used for? Ans: To handle more than two comparison cases."
   ]
  },
  {
   "cell_type": "markdown",
   "metadata": {},
   "source": [
    "4. Students in a class receive their grades as Pass/Fail. Scores of 60 or more (out of 100) mean that the grade is \"Pass\". For lower scores, the grade is \"Fail\". In addition, scores above 95 (not included) are graded as \"Top Score\". Fill in this function so that it returns the proper grade."
   ]
  },
  {
   "cell_type": "code",
   "execution_count": 31,
   "metadata": {},
   "outputs": [
    {
     "name": "stdout",
     "output_type": "stream",
     "text": [
      "Pass\n",
      "Fail\n",
      "Pass\n",
      "Pass\n",
      "Top Score\n",
      "Fail\n"
     ]
    }
   ],
   "source": [
    "def exam_grade(score):\n",
    "    if score > 95:\n",
    "        grade = \"Top Score\"\n",
    "    elif score >= 60:\n",
    "        grade = \"Pass\"\n",
    "    else:\n",
    "        grade = \"Fail\"\n",
    "    return grade\n",
    "\n",
    "print(exam_grade(65)) # Should be Pass\n",
    "print(exam_grade(55)) # Should be Fail\n",
    "print(exam_grade(60)) # Should be Pass\n",
    "print(exam_grade(95)) # Should be Pass\n",
    "print(exam_grade(100)) # Should be Top Score\n",
    "print(exam_grade(0)) # Should be Fail"
   ]
  },
  {
   "cell_type": "markdown",
   "metadata": {},
   "source": [
    "5. What's the value of this Python expression: 11 % 5? Ans: 1\n",
    "\n",
    "6. Complete the body of the *format_name* function. This function receives the first_name and last_name parameters and then returns a properly formatted string."
   ]
  },
  {
   "cell_type": "code",
   "execution_count": null,
   "metadata": {},
   "outputs": [],
   "source": [
    "def format_name(first_name, last_name):\n",
    "    if first_name != '' and last_name != '':\n",
    "        string = 'Name: ' + last_name + ', ' + first_name    \n",
    "    elif first_name!='' or last_name != '':\n",
    "        string = 'Name: ' + last_name + first_name    \n",
    "    else:\n",
    "        string = ''\n",
    "    return string \n",
    "\n",
    "print(format_name(\"Ernest\", \"Hemingway\"))\n",
    "# Should return the string \"Name: Hemingway, Ernest\"\n",
    "\n",
    "print(format_name(\"\", \"Madonna\"))\n",
    "# Should return the string \"Name: Madonna\""
   ]
  },
  {
   "cell_type": "markdown",
   "metadata": {},
   "source": [
    "7. The longest_word function is used to compare 3 words. It should return the word with the most number of characters (and the first in the list when they have the same length). Fill in the blank to make this happen."
   ]
  },
  {
   "cell_type": "code",
   "execution_count": null,
   "metadata": {},
   "outputs": [],
   "source": [
    "def longest_word(word1, word2, word3):\n",
    "    if len(word1) >= len(word2) and len(word1) >= len(word3):\n",
    "        word = word1\n",
    "    elif len(word2) >= len(word3):\n",
    "        word = word2\n",
    "    else:\n",
    "        word = word3\n",
    "    return(word)\n",
    "\n",
    "print(longest_word(\"chair\", \"couch\", \"table\"))\n",
    "print(longest_word(\"bed\", \"bath\", \"beyond\"))\n",
    "print(longest_word(\"laptop\", \"notebook\", \"desktop\"))"
   ]
  },
  {
   "cell_type": "markdown",
   "metadata": {},
   "source": [
    "8. What’s the output of the code bellow? Ans: 10"
   ]
  },
  {
   "cell_type": "code",
   "execution_count": 32,
   "metadata": {},
   "outputs": [
    {
     "name": "stdout",
     "output_type": "stream",
     "text": [
      "10\n"
     ]
    }
   ],
   "source": [
    "def sum(x, y):\n",
    "    return(x+y)\n",
    "\n",
    "print(sum(sum(1,2), sum(3,4)))"
   ]
  },
  {
   "cell_type": "markdown",
   "metadata": {},
   "source": [
    "9. What's the value of this Python expression?\n",
    "    ((10 >= 5*2) and (10 <= 5*2))\n",
    "    Ans: TRUE\n",
    "    \n",
    "    \n",
    "10. The fractional_part function divides the numerator by the denominator, and returns just the fractional part (a number between 0 and 1). Complete the body of the function so that it returns the right number. Note: Since division by 0 produces an error, if the denominator is 0, the function should return 0 instead of attempting the division."
   ]
  },
  {
   "cell_type": "code",
   "execution_count": 36,
   "metadata": {},
   "outputs": [
    {
     "name": "stdout",
     "output_type": "stream",
     "text": [
      "0.0\n",
      "0.25\n",
      "0.6666666666666667\n",
      "0.5\n",
      "0\n",
      "0.0\n"
     ]
    }
   ],
   "source": [
    "def fractional_part(numerator, denominator):\n",
    "    if denominator == 0:\n",
    "        return 0\n",
    "    else:\n",
    "        return numerator/denominator-numerator//denominator\n",
    "        \n",
    "\n",
    "print(fractional_part(5, 5)) # Should be 0\n",
    "print(fractional_part(5, 4)) # Should be 0.25\n",
    "print(fractional_part(5, 3)) # Should be 0.66...\n",
    "print(fractional_part(5, 2)) # Should be 0.5\n",
    "print(fractional_part(5, 0)) # Should be 0\n",
    "print(fractional_part(0, 5)) # Should be 0"
   ]
  },
  {
   "cell_type": "markdown",
   "metadata": {},
   "source": [
    "## Module 3 - Introduction to Loops\n",
    "\n",
    "In this module you'll explore the intricacies of loops in Python! You'll learn how to use while loops to continuously execute code, as well as how to identify infinite loop errors and how to fix them. You'll also learn to use for loops to iterate over data, and how to use the `range()` function with for loops. You'll also explore common errors when using for loops and how to fix them.\n",
    "\n",
    "### 3.1 While Loops\n",
    "\n",
    "#### 3.1.1 What is a while loop?\n",
    "\n",
    "While Loops instruct your computer to continuously execute your code based on the value of a condition. This works in a similar way to branching if statements. The difference here is that the body of the block can be executed multiple times instead of just once.\n",
    "\n",
    "Check out this program:"
   ]
  },
  {
   "cell_type": "code",
   "execution_count": 1,
   "metadata": {},
   "outputs": [
    {
     "name": "stdout",
     "output_type": "stream",
     "text": [
      "Not there yet, x=0\n",
      "Not there yet, x=1\n",
      "Not there yet, x=2\n",
      "Not there yet, x=3\n",
      "Not there yet, x=4\n",
      "x=5\n"
     ]
    }
   ],
   "source": [
    "x = 0  # Initializing: to give an initial value to a variable\n",
    "\n",
    "while x < 5:\n",
    "    # while loop body\n",
    "    print('Not there yet, x=' + str(x))\n",
    "    x = x + 1\n",
    "    \n",
    "print('x=' + str(x))"
   ]
  },
  {
   "cell_type": "markdown",
   "metadata": {},
   "source": [
    "A while loop will continuously execute code depending on the value of a condition. It begins with the keyword `while`, followed by a comparison to be evaluated, then a colon. On the next line is the code block to be executed, indented to the right. Similar to an `if` statement, the code in the body will only be executed if the comparison is evaluated to be true. What sets a `while` loop apart, however, is that this code block will keep executing as long as the evaluation statement is true. Once the statement is no longer true, the loop exits and the next line of code will be executed.\n",
    "\n",
    "**Examples**"
   ]
  },
  {
   "cell_type": "code",
   "execution_count": 2,
   "metadata": {},
   "outputs": [
    {
     "name": "stdout",
     "output_type": "stream",
     "text": [
      "Attempt 1\n",
      "Attempt 2\n",
      "Attempt 3\n",
      "Attempt 4\n",
      "Attempt 5\n",
      "Done\n"
     ]
    }
   ],
   "source": [
    "# while loop inside a function\n",
    "\n",
    "def attempts(n):\n",
    "    # initializing \n",
    "    x = 1        \n",
    "    # while loop\n",
    "    while x <= n:\n",
    "        # while loop body\n",
    "        print(\"Attempt \" + str(x))\n",
    "        x += 1   # shorthand ofr x=x+1\n",
    "    print(\"Done\")\n",
    "    \n",
    "attempts(5)"
   ]
  },
  {
   "cell_type": "code",
   "execution_count": null,
   "metadata": {},
   "outputs": [],
   "source": [
    "# repeat process untill get  valid username using the hidden functions \n",
    "# get_username() and valid_username()\n",
    "username = get_username()\n",
    "while not valid_username(username):\n",
    "    print('Invalid username')\n",
    "    username = get_username()"
   ]
  },
  {
   "cell_type": "markdown",
   "metadata": {},
   "source": [
    "#### 3.1.2 Why Initializing Variables Matters\n",
    "\n",
    "\n",
    "One of the most common errors is forgetting to initialize variables with the right value. \n",
    "\n",
    "When we forget to initialize the variable two different things can happen. The first possible outcome and the easiest to catch is that Python might raise an error telling us that we're using a variable we haven't defined, which looks like this:\n"
   ]
  },
  {
   "cell_type": "code",
   "execution_count": 1,
   "metadata": {},
   "outputs": [
    {
     "ename": "NameError",
     "evalue": "name 'variable' is not defined",
     "output_type": "error",
     "traceback": [
      "\u001b[0;31m---------------------------------------------------------------------------\u001b[0m",
      "\u001b[0;31mNameError\u001b[0m                                 Traceback (most recent call last)",
      "\u001b[0;32m<ipython-input-1-2c5599aff962>\u001b[0m in \u001b[0;36m<module>\u001b[0;34m\u001b[0m\n\u001b[0;32m----> 1\u001b[0;31m \u001b[0;32mwhile\u001b[0m \u001b[0mvariable\u001b[0m \u001b[0;34m<\u001b[0m \u001b[0;36m10\u001b[0m\u001b[0;34m:\u001b[0m\u001b[0;34m\u001b[0m\u001b[0;34m\u001b[0m\u001b[0m\n\u001b[0m\u001b[1;32m      2\u001b[0m     \u001b[0mprint\u001b[0m\u001b[0;34m(\u001b[0m\u001b[0;34m\"Hello\"\u001b[0m\u001b[0;34m)\u001b[0m\u001b[0;34m\u001b[0m\u001b[0;34m\u001b[0m\u001b[0m\n\u001b[1;32m      3\u001b[0m     \u001b[0mvariable\u001b[0m \u001b[0;34m+=\u001b[0m \u001b[0;36m1\u001b[0m\u001b[0;34m\u001b[0m\u001b[0;34m\u001b[0m\u001b[0m\n",
      "\u001b[0;31mNameError\u001b[0m: name 'variable' is not defined"
     ]
    }
   ],
   "source": [
    "while variable < 10:\n",
    "    print(\"Hello\")\n",
    "    variable += 1"
   ]
  },
  {
   "cell_type": "markdown",
   "metadata": {},
   "source": [
    "There's a second issue we might face if we forget to initialize \n",
    "variables with the right value. We might have already used the variable in our program. In this case, if we reuse the variable without setting the correct value from the start, it will still have the value from before. This can lead to some pretty unexpected behavior. Check out the script, can you spot the problem?"
   ]
  },
  {
   "cell_type": "code",
   "execution_count": 3,
   "metadata": {},
   "outputs": [
    {
     "name": "stdout",
     "output_type": "stream",
     "text": [
      "45 1\n"
     ]
    }
   ],
   "source": [
    "x = 1\n",
    "sum = 0\n",
    "while x<10:\n",
    "    sum += x\n",
    "    x += 1\n",
    "\n",
    "product = 1\n",
    "while x< 10:\n",
    "    product = product*x\n",
    "    x += 1\n",
    "    \n",
    "print(sum,product) # They should be 45 and 3628800"
   ]
  },
  {
   "cell_type": "code",
   "execution_count": 6,
   "metadata": {
    "scrolled": true
   },
   "outputs": [
    {
     "ename": "UnboundLocalError",
     "evalue": "local variable 'current' referenced before assignment",
     "output_type": "error",
     "traceback": [
      "\u001b[0;31m---------------------------------------------------------------------------\u001b[0m",
      "\u001b[0;31mUnboundLocalError\u001b[0m                         Traceback (most recent call last)",
      "\u001b[0;32m<ipython-input-6-bf220a921d32>\u001b[0m in \u001b[0;36m<module>\u001b[0;34m\u001b[0m\n\u001b[1;32m      5\u001b[0m   \u001b[0mprint\u001b[0m\u001b[0;34m(\u001b[0m\u001b[0;34m\"Zero!\"\u001b[0m\u001b[0;34m)\u001b[0m\u001b[0;34m\u001b[0m\u001b[0;34m\u001b[0m\u001b[0m\n\u001b[1;32m      6\u001b[0m \u001b[0;34m\u001b[0m\u001b[0m\n\u001b[0;32m----> 7\u001b[0;31m \u001b[0mcount_down\u001b[0m\u001b[0;34m(\u001b[0m\u001b[0;36m3\u001b[0m\u001b[0;34m)\u001b[0m\u001b[0;34m\u001b[0m\u001b[0;34m\u001b[0m\u001b[0m\n\u001b[0m",
      "\u001b[0;32m<ipython-input-6-bf220a921d32>\u001b[0m in \u001b[0;36mcount_down\u001b[0;34m(start_number)\u001b[0m\n\u001b[1;32m      1\u001b[0m \u001b[0;32mdef\u001b[0m \u001b[0mcount_down\u001b[0m\u001b[0;34m(\u001b[0m\u001b[0mstart_number\u001b[0m\u001b[0;34m)\u001b[0m\u001b[0;34m:\u001b[0m\u001b[0;34m\u001b[0m\u001b[0;34m\u001b[0m\u001b[0m\n\u001b[0;32m----> 2\u001b[0;31m   \u001b[0;32mwhile\u001b[0m \u001b[0;34m(\u001b[0m\u001b[0mcurrent\u001b[0m \u001b[0;34m>\u001b[0m \u001b[0;36m0\u001b[0m\u001b[0;34m)\u001b[0m\u001b[0;34m:\u001b[0m\u001b[0;34m\u001b[0m\u001b[0;34m\u001b[0m\u001b[0m\n\u001b[0m\u001b[1;32m      3\u001b[0m     \u001b[0mprint\u001b[0m\u001b[0;34m(\u001b[0m\u001b[0mcurrent\u001b[0m\u001b[0;34m)\u001b[0m\u001b[0;34m\u001b[0m\u001b[0;34m\u001b[0m\u001b[0m\n\u001b[1;32m      4\u001b[0m     \u001b[0mcurrent\u001b[0m \u001b[0;34m-=\u001b[0m \u001b[0;36m1\u001b[0m\u001b[0;34m\u001b[0m\u001b[0;34m\u001b[0m\u001b[0m\n\u001b[1;32m      5\u001b[0m   \u001b[0mprint\u001b[0m\u001b[0;34m(\u001b[0m\u001b[0;34m\"Zero!\"\u001b[0m\u001b[0;34m)\u001b[0m\u001b[0;34m\u001b[0m\u001b[0;34m\u001b[0m\u001b[0m\n",
      "\u001b[0;31mUnboundLocalError\u001b[0m: local variable 'current' referenced before assignment"
     ]
    }
   ],
   "source": [
    "def count_down(start_number):\n",
    "    while (current > 0):\n",
    "        print(current)\n",
    "        current -= 1\n",
    "    print(\"Zero!\")\n",
    "\n",
    "count_down(3)"
   ]
  },
  {
   "cell_type": "markdown",
   "metadata": {},
   "source": [
    "In a nutshell, you'll want to watch out for a common mistake: forgetting to initialize variables. If you try to use a variable without first initializing it, you'll run into a NameError. This is the Python interpreter catching the mistake and telling you that you’re using an undefined variable. The fix is pretty simple: initialize the variable by assigning the variable a value before you use it.\n",
    "\n",
    "Another common mistake to watch out for that can be a little trickier to spot is forgetting to initialize variables with the correct value. If you use a variable earlier in your code and then reuse it later in a loop without first setting the value to something you want, your code may wind up doing something you didn't expect. Don't forget to initialize your variables before using them!"
   ]
  },
  {
   "cell_type": "markdown",
   "metadata": {},
   "source": [
    "#### 3.1.3 Infinite Loops and How to Break Them\n",
    "\n",
    "Another easy mistake that can happen when using loops is introducing an infinite loop. An infinite loop means the code block in the loop will continue to execute and never stop. This can happen when the condition being evaluated in a while loop doesn't change. "
   ]
  },
  {
   "cell_type": "code",
   "execution_count": null,
   "metadata": {},
   "outputs": [],
   "source": [
    "while x % 2 == 0:\n",
    "    x = x/2"
   ]
  },
  {
   "cell_type": "markdown",
   "metadata": {},
   "source": [
    "In the code above, if $x=0$, we have a infinite loop. We could solve it by adding the condition"
   ]
  },
  {
   "cell_type": "code",
   "execution_count": null,
   "metadata": {},
   "outputs": [],
   "source": [
    "while x != 0 and x % 2 == 0:\n",
    "    x = x/2"
   ]
  },
  {
   "cell_type": "markdown",
   "metadata": {},
   "source": [
    "So, always pay close attention to your variables and what possible values they can take. Think about unexpected values, like zero.\n",
    "\n",
    "Another example where there are no changes in the parameter."
   ]
  },
  {
   "cell_type": "code",
   "execution_count": null,
   "metadata": {},
   "outputs": [],
   "source": [
    "def print_range(start, end):\n",
    "    # Loop through the numbers from start to end\n",
    "    n = start\n",
    "    while n <= end:\n",
    "        print(n)\n",
    "\n",
    "print_range(1, 5)  # Should print 1 2 3 4 5 (each number on its own line) "
   ]
  },
  {
   "cell_type": "markdown",
   "metadata": {},
   "source": [
    "Sometimes we would like to repeat a process for a indefinite number of time. In this case, we'll use the key word `break` to stop the infinite loop. We can use it not only to stop infinite loops but also to stop a loop early if the code has already achieved what's needed. For instance, look the code below:"
   ]
  },
  {
   "cell_type": "code",
   "execution_count": null,
   "metadata": {},
   "outputs": [],
   "source": [
    "while True:\n",
    "    do_something_cool()\n",
    "    if user_requested_to_stop():\n",
    "        break"
   ]
  },
  {
   "cell_type": "markdown",
   "metadata": {},
   "source": [
    "#### 3.1.4 Practice quiz\n",
    "\n",
    "1. What are while loops in Python? Ans: While loops let the computer execute a set of instructions while a condition is true.\n",
    "\n",
    "2. Fill in the blanks to make the print_prime_factors function print all the prime factors of a number. A prime factor is a number that is prime and divides another without a remainder."
   ]
  },
  {
   "cell_type": "code",
   "execution_count": null,
   "metadata": {},
   "outputs": [],
   "source": [
    "def print_prime_factors(number):\n",
    "  # Start with two, which is the first prime\n",
    "  factor = 2\n",
    "  # Keep going until the factor is larger than the number\n",
    "  while factor <= number:\n",
    "    # Check if factor is a divisor of number\n",
    "    if number % factor == 0:\n",
    "      # If it is, print it and divide the original number\n",
    "      print(factor)\n",
    "      number = number / factor\n",
    "    else:\n",
    "      # If it's not, increment the factor by one\n",
    "      factor += 1\n",
    "  return \"Done\"\n",
    "\n",
    "print_prime_factors(100)\n",
    "# Should print 2,2,5,5\n",
    "# DO NOT DELETE THIS COMMENT"
   ]
  },
  {
   "cell_type": "markdown",
   "metadata": {},
   "source": [
    "3. The following code can lead to an infinite loop. Fix the code so that it can finish successfully for all numbers.\n",
    "\n",
    "Note: Try running your function with the number 0 as the input, and see what you get!"
   ]
  },
  {
   "cell_type": "code",
   "execution_count": null,
   "metadata": {},
   "outputs": [],
   "source": [
    "def is_power_of_two(n):\n",
    "  # Check if the number can be divided by two without a remainder\n",
    "  while n != 0 and n % 2 == 0: # add condition n !=0\n",
    "    n = n / 2\n",
    "  # If after dividing by two the number is 1, it's a power of two\n",
    "  if n == 1:\n",
    "    return True\n",
    "  return False\n",
    "  \n",
    "\n",
    "print(is_power_of_two(0)) # Should be False\n",
    "print(is_power_of_two(1)) # Should be True\n",
    "print(is_power_of_two(8)) # Should be True\n",
    "print(is_power_of_two(9)) # Should be False"
   ]
  },
  {
   "cell_type": "markdown",
   "metadata": {},
   "source": [
    "4. Fill in the empty function so that it returns the sum of all the divisors of a number, without including it. A divisor is a number that divides into another without a remainder."
   ]
  },
  {
   "cell_type": "code",
   "execution_count": 26,
   "metadata": {},
   "outputs": [
    {
     "name": "stdout",
     "output_type": "stream",
     "text": [
      "0\n",
      "1\n",
      "55\n",
      "114\n"
     ]
    }
   ],
   "source": [
    "def sum_divisors(n):\n",
    "    s = 0\n",
    "    # Return the sum of all divisors of n, not including n\n",
    "    if n == 0:\n",
    "        return s\n",
    "    elif n == 1:\n",
    "        s = 1\n",
    "    else:\n",
    "        d = 1\n",
    "        while d <= n//2:\n",
    "            if n % d == 0:\n",
    "                s += d\n",
    "            d += 1\n",
    "    return s\n",
    "\n",
    "print(sum_divisors(0))\n",
    "# 0\n",
    "print(sum_divisors(3)) # Should sum of 1\n",
    "# 1\n",
    "print(sum_divisors(36)) # Should sum of 1+2+3+4+6+9+12+18\n",
    "# 55\n",
    "print(sum_divisors(102)) # Should be sum of 2+3+6+17+34+51\n",
    "# 114\n"
   ]
  },
  {
   "cell_type": "markdown",
   "metadata": {},
   "source": [
    "5. The multiplication_table function prints the results of a number passed to it multiplied by 1 through 5. An additional requirement is that the result is not to exceed 25, which is done with the break statement. Fill in the blanks to complete the function to satisfy these conditions."
   ]
  },
  {
   "cell_type": "code",
   "execution_count": 21,
   "metadata": {},
   "outputs": [
    {
     "name": "stdout",
     "output_type": "stream",
     "text": [
      "3x1=3\n",
      "3x2=6\n",
      "3x3=9\n",
      "3x4=12\n",
      "3x5=15\n",
      "5x1=5\n",
      "5x2=10\n",
      "5x3=15\n",
      "5x4=20\n",
      "5x5=25\n",
      "8x1=8\n",
      "8x2=16\n",
      "8x3=24\n"
     ]
    }
   ],
   "source": [
    "def multiplication_table(number):\n",
    "    # Initialize the starting point of the multiplication table\n",
    "    multiplier = 1\n",
    "    # Only want to loop through 5\n",
    "    while multiplier <= 5:\n",
    "        result = number * multiplier \n",
    "        # What is the additional condition to exit out of the loop?\n",
    "        if result > 25:\n",
    "            break\n",
    "        print(str(number) + \"x\" + str(multiplier) + \"=\" + str(result))\n",
    "        # Increment the variable for the loop\n",
    "        multiplier += 1\n",
    "\n",
    "multiplication_table(3) \n",
    "# Should print: 3x1=3 3x2=6 3x3=9 3x4=12 3x5=15\n",
    "\n",
    "multiplication_table(5) \n",
    "# Should print: 5x1=5 5x2=10 5x3=15 5x4=20 5x5=25\n",
    "\n",
    "multiplication_table(8)\t\n",
    "# Should print: 8x1=8 8x2=16 8x3=24"
   ]
  },
  {
   "cell_type": "markdown",
   "metadata": {},
   "source": [
    "### 3.2 For Loops\n",
    "\n",
    "#### 3.2.1 What is a for loop?\n",
    "\n",
    "For loops allow you to iterate over a sequence of values. Let's take the example from the beginning of the video:"
   ]
  },
  {
   "cell_type": "code",
   "execution_count": null,
   "metadata": {},
   "outputs": [],
   "source": [
    "for x in range(5):\n",
    "    print(x)"
   ]
  },
  {
   "cell_type": "markdown",
   "metadata": {},
   "source": [
    "Similar to `if` statements and `while` loops, `for` loops begin with the keyword `for` with a colon at the end of the line. Just like in function definitions, `while` loops and `if` statements, the body of the for loop begins on the next line and is indented to the right. But what about the stuff in between the `for` keyword and the colon? In our example, we’re using the `range()` function to create a sequence of numbers that our for loop can iterate over. In this case, our variable x points to the current element in the sequence as the `for` loop iterates over the sequence of numbers. Keep in mind that in Python and many programming languages, a range of numbers will start at 0, and the list of numbers generated will be one less than the provided value. So `range(5)` will generate a sequence of numbers from 0 to 4, for a total of 5 numbers.\n",
    "\n",
    "Bringing this all together, the `range(5)` function will create a sequence of numbers from 0 to 4. Our `for` loop will iterate over this sequence of numbers, one at a time, making the numbers accessible via the variable x and the code within our loop body will execute for each iteration through the sequence. So for the first loop, x will contain 0, the next loop, 1, and so on until it reaches 4. Once the end of the sequence comes up, the loop will exit and the code will continue.\n",
    "\n",
    "Here is another example:"
   ]
  },
  {
   "cell_type": "code",
   "execution_count": null,
   "metadata": {},
   "outputs": [],
   "source": [
    "def square(n):\n",
    "    return n*n\n",
    "\n",
    "def sum_squares(x):\n",
    "    sum = 0\n",
    "    for n in range(x):\n",
    "        sum += square(n)\n",
    "    return sum\n",
    "\n",
    "print(sum_squares(10)) # Should be 285"
   ]
  },
  {
   "cell_type": "markdown",
   "metadata": {},
   "source": [
    "The power of `for` loops comes from the fact that it can iterate over a sequence of any kind of data, not just a range of numbers. You can use for loops to iterate over a list of strings, such as usernames or lines in a file."
   ]
  },
  {
   "cell_type": "code",
   "execution_count": null,
   "metadata": {},
   "outputs": [],
   "source": [
    "friends = ['Taylor', 'Alex', 'Pat', 'Eli']\n",
    "for friend in friends:\n",
    "    print(\"Hi \" + friend)"
   ]
  },
  {
   "cell_type": "markdown",
   "metadata": {},
   "source": [
    "PS: We'll see lists in more details in future lessons.\n",
    "\n",
    "Not sure whether to use a `for` loop or a `while` loop? Remember that a `while` loop is great for performing an action over and over until a condition has changed. A `for` loop works well when you want to iterate over a sequence of elements. "
   ]
  },
  {
   "cell_type": "markdown",
   "metadata": {},
   "source": [
    "#### 3.2.2 A Closer Look at the Range() Function\n",
    "\n",
    "Previously we had used the `range()` function by passing it a single parameter, and it generated a sequence of numbers from 0 to one less than we specified. But the `range()` function can do much more than that. We can pass in two parameters: the first specifying our starting point, the second specifying the end point. Don't forget that the sequence generated won't contain the last element; it will stop one before the parameter specified."
   ]
  },
  {
   "cell_type": "code",
   "execution_count": 2,
   "metadata": {},
   "outputs": [
    {
     "name": "stdout",
     "output_type": "stream",
     "text": [
      "24\n",
      "120\n"
     ]
    }
   ],
   "source": [
    "def factorial(n):\n",
    "    result = 1\n",
    "    for i in range(2,n+1):\n",
    "        result = result * i\n",
    "    return result\n",
    "\n",
    "print(factorial(4)) # should return 24\n",
    "print(factorial(5)) # should return 120"
   ]
  },
  {
   "cell_type": "markdown",
   "metadata": {},
   "source": [
    "The `range()` function can take a third parameter, too. This third parameter lets you  alter the size of each step. So instead of creating a sequence of numbers incremented by 1, you can generate a sequence of numbers that are incremented by 5."
   ]
  },
  {
   "cell_type": "code",
   "execution_count": 3,
   "metadata": {},
   "outputs": [
    {
     "name": "stdout",
     "output_type": "stream",
     "text": [
      "0 -17.77777777777778\n",
      "10 -12.222222222222221\n",
      "20 -6.666666666666667\n",
      "30 -1.1111111111111112\n",
      "40 4.444444444444445\n",
      "50 10.0\n",
      "60 15.555555555555555\n",
      "70 21.11111111111111\n",
      "80 26.666666666666668\n",
      "90 32.22222222222222\n",
      "100 37.77777777777778\n"
     ]
    }
   ],
   "source": [
    "def to_celsius(x):\n",
    "    return (x-32)*5/9\n",
    "\n",
    "for x in range(0,101,10):\n",
    "    print(x, to_celsius(x))"
   ]
  },
  {
   "cell_type": "markdown",
   "metadata": {},
   "source": [
    "To quickly recap the `range()` function when passing one, two, or three parameters:\n",
    "\n",
    "- One parameter will create a sequence, one-by-one, from zero to one less than the parameter.\n",
    "- Two parameters will create a sequence, one-by-one, from the first parameter to one less than the second parameter.\n",
    "- Three parameters will create a sequence starting with the first parameter and stopping before the second parameter, but this time increasing each step by the third parameter."
   ]
  },
  {
   "cell_type": "markdown",
   "metadata": {},
   "source": [
    "#### 3.2.3 Nested for Loops\n",
    "\n",
    "Sometimes we need for loops inside of for loops to achieve our goal. Here goes one example, in wich we want to print the dominos' pieces."
   ]
  },
  {
   "cell_type": "code",
   "execution_count": 6,
   "metadata": {},
   "outputs": [
    {
     "name": "stdout",
     "output_type": "stream",
     "text": [
      "[0|0] [0|1] [0|2] [0|3] [0|4] [0|5] [0|6] [1|1] [1|2] [1|3] [1|4] [1|5] [1|6] [2|2] [2|3] [2|4] [2|5] [2|6] [3|3] [3|4] [3|5] [3|6] [4|4] [4|5] [4|6] [5|5] [5|6] [6|6] "
     ]
    }
   ],
   "source": [
    "for left in range(7):\n",
    "    for right in range(left,7):\n",
    "        print(\"[\" + str(left) + \"|\" + str(right) + \"]\", end = \" \")"
   ]
  },
  {
   "cell_type": "markdown",
   "metadata": {},
   "source": [
    "Another one, for pairing teams in a league:"
   ]
  },
  {
   "cell_type": "code",
   "execution_count": 8,
   "metadata": {},
   "outputs": [
    {
     "name": "stdout",
     "output_type": "stream",
     "text": [
      "Dragons vs Wolves\n",
      "Dragons vs Pandas\n",
      "Dragons vs Unicorns\n",
      "Wolves vs Dragons\n",
      "Wolves vs Pandas\n",
      "Wolves vs Unicorns\n",
      "Pandas vs Dragons\n",
      "Pandas vs Wolves\n",
      "Pandas vs Unicorns\n",
      "Unicorns vs Dragons\n",
      "Unicorns vs Wolves\n",
      "Unicorns vs Pandas\n"
     ]
    }
   ],
   "source": [
    "teams = [ 'Dragons', 'Wolves', 'Pandas', 'Unicorns']\n",
    "for home_team in teams:\n",
    "    for away_team in teams:\n",
    "        if home_team != away_team:\n",
    "            print(home_team + ' vs ' + away_team)"
   ]
  },
  {
   "cell_type": "markdown",
   "metadata": {},
   "source": [
    "#### 3.2.4 Common Errors in for Loops\n",
    "\n",
    "`for` loops iterate over sequences. The interpreter will refuse to\n",
    "iterate over a single element"
   ]
  },
  {
   "cell_type": "code",
   "execution_count": 9,
   "metadata": {},
   "outputs": [
    {
     "ename": "TypeError",
     "evalue": "'int' object is not iterable",
     "output_type": "error",
     "traceback": [
      "\u001b[0;31m---------------------------------------------------------------------------\u001b[0m",
      "\u001b[0;31mTypeError\u001b[0m                                 Traceback (most recent call last)",
      "\u001b[0;32m<ipython-input-9-b556cd019809>\u001b[0m in \u001b[0;36m<module>\u001b[0;34m\u001b[0m\n\u001b[0;32m----> 1\u001b[0;31m \u001b[0;32mfor\u001b[0m \u001b[0mx\u001b[0m \u001b[0;32min\u001b[0m \u001b[0;36m25\u001b[0m\u001b[0;34m:\u001b[0m\u001b[0;34m\u001b[0m\u001b[0;34m\u001b[0m\u001b[0m\n\u001b[0m\u001b[1;32m      2\u001b[0m     \u001b[0mprint\u001b[0m\u001b[0;34m(\u001b[0m\u001b[0mx\u001b[0m\u001b[0;34m)\u001b[0m\u001b[0;34m\u001b[0m\u001b[0;34m\u001b[0m\u001b[0m\n",
      "\u001b[0;31mTypeError\u001b[0m: 'int' object is not iterable"
     ]
    }
   ],
   "source": [
    "for x in 25:\n",
    "    print(x)"
   ]
  },
  {
   "cell_type": "markdown",
   "metadata": {},
   "source": [
    "If we're trying to iterate over a list that has 25 as the only element, then it needs to be a list and that means writing it between square brackets."
   ]
  },
  {
   "cell_type": "code",
   "execution_count": 10,
   "metadata": {},
   "outputs": [
    {
     "name": "stdout",
     "output_type": "stream",
     "text": [
      "25\n"
     ]
    }
   ],
   "source": [
    "for x in [25]:\n",
    "    print(x)"
   ]
  },
  {
   "cell_type": "markdown",
   "metadata": {},
   "source": [
    "Somoetimes we need to consider list with one single element. Consider, for example, the code below:"
   ]
  },
  {
   "cell_type": "code",
   "execution_count": 12,
   "metadata": {},
   "outputs": [
    {
     "name": "stdout",
     "output_type": "stream",
     "text": [
      "Hi Taylor\n",
      "Hi Luisa\n",
      "Hi Jamaal\n",
      "Hi Eli\n"
     ]
    }
   ],
   "source": [
    "def greet_friends(friends):\n",
    "    for friend in friends:\n",
    "        print(\"Hi \" + friend)\n",
    "\n",
    "greet_friends(['Taylor','Luisa','Jamaal','Eli'])"
   ]
  },
  {
   "cell_type": "markdown",
   "metadata": {},
   "source": [
    "Suppose now we want to greet just one friend using the function `greet_friend()`. One first and wrong path is"
   ]
  },
  {
   "cell_type": "code",
   "execution_count": 13,
   "metadata": {},
   "outputs": [
    {
     "name": "stdout",
     "output_type": "stream",
     "text": [
      "Hi B\n",
      "Hi a\n",
      "Hi r\n",
      "Hi r\n",
      "Hi y\n"
     ]
    }
   ],
   "source": [
    "greet_friends('Barry')"
   ]
  },
  {
   "cell_type": "markdown",
   "metadata": {},
   "source": [
    "This happens because strings are iterable,\n",
    "the for loop will go over each letter of\n",
    "the string and do the operation we asked it to do,\n",
    "which in this case, print a greeting.\n",
    "Depending on what you're trying to do,\n",
    "you may actually want to\n",
    "iterate through the letters of a string.\n",
    "But in this case, we don't. "
   ]
  },
  {
   "cell_type": "code",
   "execution_count": null,
   "metadata": {},
   "outputs": [],
   "source": [
    "greet_friends(['Barry'])"
   ]
  },
  {
   "cell_type": "markdown",
   "metadata": {},
   "source": [
    "#### 3.2.5 Loops Cheat Sheet\n",
    "\n",
    "##### While Loops\n",
    "\n",
    "A `while` loop executes the body of the loop while the condition remains True.\n",
    "\n",
    "`\n",
    "while condition:\n",
    "    body\n",
    "`\n",
    "\n",
    "Things to watch out for!\n",
    "\n",
    "- **Failure to initialize variables**. Make sure all the variables used in the loop’s condition  are initialized before the loop.\n",
    "- **Unintended infinite loops**. Make sure that the body of the loop modifies the variables used in the condition, so that the loop will eventually end **for all possible values of the variables**.\n",
    "\n",
    "Typical use:\n",
    "\n",
    "`while` loops are mostly used when there’s an unknown number of operations to be performed, and a condition needs to be checked at each iteration.\n",
    "\n",
    "##### For Loops\n",
    "\n",
    "A `for` loop iterates over a sequence of elements, executing the body of the loop for each element in the sequence.\n",
    "\n",
    "Syntax:\n",
    "\n",
    "`\n",
    "for variable in sequence\n",
    "    body\n",
    "`\n",
    "\n",
    "The `range()` function:\n",
    "\n",
    "`range()` generates a sequence of integer numbers. It can take one, two, or three parameters:\n",
    "\n",
    "- `range(n)`: 0, 1, 2, ... n-1\n",
    "- `range(x,y)`: x, x+1, x+2, ... y-1\n",
    "- `range(p,q,r)`: p, p+r, p+2r, p+3r, ... q-1 (if it's a valid increment)\n",
    "\n",
    "**Common pitfalls:**\n",
    "\n",
    "- **Forgetting that the upper limit of a range() isn’t included.**\n",
    "- **Iterating over non-sequences.**- Integer numbers aren’t iterable. Strings are iterable letter by letter, but that might not be what you want.\n",
    "\n",
    "Typical use:\n",
    "\n",
    "For loops are mostly used when there's a pre-defined sequence or range of numbers to iterate.\n",
    "\n",
    "##### Break & Continue\n",
    "\n",
    "You can interrupt both `while` and `for` loops using the `break` keyword. We normally do this to interrupt a cycle due to a separate condition.\n",
    "\n",
    "You can use the `continue` keyword to skip the current iteration and continue with the next one. This is typically used to jump ahead when some of the elements of the sequence aren’t relevant.\n",
    "\n",
    "If you want to learn more, check out this [wiki page on for loops](https://wiki.python.org/moin/ForLoop)."
   ]
  },
  {
   "cell_type": "markdown",
   "metadata": {},
   "source": [
    "#### 3.2.6 Practice Quiz: For Loops\n",
    "\n",
    "1. How are while loops and for loops different in Python? Ans: While loops iterate while a condition is true, for loops iterate through a sequence of elements.\n",
    "\n",
    "2. Fill in the blanks to make the factorial function return the factorial of n. Then, print the first 10 factorials (from 0 to 9) with the corresponding number. Remember that the factorial of a number is defined as the product of an integer and all integers before it. For example, the factorial of five (5!) is equal to 1*2*3*4*5=120. Also recall that the factorial of zero (0!) is equal to 1."
   ]
  },
  {
   "cell_type": "code",
   "execution_count": 17,
   "metadata": {},
   "outputs": [
    {
     "name": "stdout",
     "output_type": "stream",
     "text": [
      "0 1\n",
      "1 1\n",
      "2 2\n",
      "3 6\n",
      "4 24\n",
      "5 120\n",
      "6 720\n",
      "7 5040\n",
      "8 40320\n",
      "9 362880\n"
     ]
    }
   ],
   "source": [
    "def factorial(n):\n",
    "    result = 1\n",
    "    for x in range(1,n+1):\n",
    "        result = result * x\n",
    "    return result\n",
    "\n",
    "for n in range(10):\n",
    "    print(n, factorial(n))"
   ]
  },
  {
   "cell_type": "markdown",
   "metadata": {},
   "source": [
    "3. Write a script that prints the first 10 cube numbers (x**3), starting with x=1 and ending with x=10."
   ]
  },
  {
   "cell_type": "code",
   "execution_count": 18,
   "metadata": {},
   "outputs": [
    {
     "name": "stdout",
     "output_type": "stream",
     "text": [
      "1\n",
      "8\n",
      "27\n",
      "64\n",
      "125\n",
      "216\n",
      "343\n",
      "512\n",
      "729\n",
      "1000\n"
     ]
    }
   ],
   "source": [
    "for x in range(1,11):\n",
    "    print(str(x**3))"
   ]
  },
  {
   "cell_type": "markdown",
   "metadata": {},
   "source": [
    "4. Write a script that prints the multiples of 7 between 0 and 100. Print one multiple per line and avoid printing any numbers that aren't multiples of 7. Remember that 0 is also a multiple of 7."
   ]
  },
  {
   "cell_type": "code",
   "execution_count": 20,
   "metadata": {
    "scrolled": true
   },
   "outputs": [
    {
     "name": "stdout",
     "output_type": "stream",
     "text": [
      "0\n",
      "7\n",
      "14\n",
      "21\n",
      "28\n",
      "35\n",
      "42\n",
      "49\n",
      "56\n",
      "63\n",
      "70\n",
      "77\n",
      "84\n",
      "91\n",
      "98\n"
     ]
    }
   ],
   "source": [
    "for x in range(0,100,7):\n",
    "    print(str(x))"
   ]
  },
  {
   "cell_type": "markdown",
   "metadata": {},
   "source": [
    "5. The retry function tries to execute an operation that might fail, it retries the operation for a number of attempts. Currently the code will keep executing the function even if it succeeds. Fill in the blank so the code stops trying after the operation succeeded."
   ]
  },
  {
   "cell_type": "code",
   "execution_count": null,
   "metadata": {},
   "outputs": [],
   "source": [
    "def retry(operation, attempts):\n",
    "    for n in range(attempts):\n",
    "        if operation():\n",
    "            print(\"Attempt \" + str(n) + \" succeeded\")\n",
    "            break\n",
    "        else:\n",
    "            print(\"Attempt \" + str(n) + \" failed\")\n",
    "\n",
    "retry(create_user, 3)\n",
    "retry(stop_service, 5)"
   ]
  },
  {
   "cell_type": "markdown",
   "metadata": {},
   "source": [
    "### 3.3 Recursion\n",
    "\n",
    "#### 3.3.1 What is recursion?\n",
    "\n",
    "\n",
    "Recursion is the repeated application of the same procedure to a smaller problem. Recursion let's us tackle complex problems by reducing the problem to a simpler one.\n",
    "\n",
    "In programming, recursion is a way of doing a repetitive task by having a function call itself."
   ]
  },
  {
   "cell_type": "code",
   "execution_count": 1,
   "metadata": {},
   "outputs": [
    {
     "data": {
      "text/plain": [
       "24"
      ]
     },
     "execution_count": 1,
     "metadata": {},
     "output_type": "execute_result"
    }
   ],
   "source": [
    "def factorial(n):\n",
    "    # The base case is n being smaller than 2\n",
    "    if n<2:\n",
    "        return 1\n",
    "    return n*factorial(n-1)\n",
    "\n",
    "factorial(4)"
   ]
  },
  {
   "cell_type": "code",
   "execution_count": 4,
   "metadata": {},
   "outputs": [
    {
     "data": {
      "text/plain": [
       "15"
      ]
     },
     "execution_count": 4,
     "metadata": {},
     "output_type": "execute_result"
    }
   ],
   "source": [
    "def sum_positive_numbers(n):\n",
    "    # The base case is n being smaller than 1\n",
    "    if n < 1:\n",
    "        return 0\n",
    "    return n + sum_positive_numbers(n-1)\n",
    "\n",
    "sum_positive_numbers(5)"
   ]
  },
  {
   "cell_type": "markdown",
   "metadata": {},
   "source": [
    "#### 3.3.2 Recursion in Action in the IT Context\n",
    "\n",
    "You might be wondering why do we need recursive functions if I can just use\n",
    "a for or while loop?\n",
    "Well, solutions to some specific problems are easier to write and\n",
    "understand when using recursive functions.\n",
    "A lot of math functions like the factorial or\n",
    "the sum of all the previous numbers are good examples of this.\n",
    "If a math function is already defined in recursive terms,\n",
    "it's straightforward to just write the code as a recursive function.\n",
    "But it's not just about math functions.\n",
    "Let's check out a couple of examples of how this could help an IT specialist\n",
    "trying to automate tasks.\n",
    "Let's say that you need to write a tool that goes through a bunch of directories\n",
    "in your computer and calculates how many files are contained in each. When listing the files inside a directory, you might find subdirectories inside them\n",
    "and you'd want to count the files in those subdirectories as well.\n",
    "This is a great time to use recursion.\n",
    "The base case would be a directory with no subdirectories.\n",
    "For this case, the function would just return the amount of files.\n",
    "The recursive case would be calling the recursive function for\n",
    "each of the contained subdirectories.\n",
    "The return value of a given function call would be the sum of all the files in that\n",
    "directory plus all the files in the contained subdirectories.\n",
    "A directory of files that can contain other directories is an example of\n",
    "a recursive structure.\n",
    "Because directories can contain subdirectories that contain subdirectories\n",
    "that contain subdirectories, and so on.\n",
    "\n",
    "\n",
    "It's important to call out that in some languages there's a maximum amount of\n",
    "recursive calls you can use.\n",
    "In Python by default,\n",
    "you can call a recursive function 1,000 times until you reach the limit.\n",
    "That's fine for things like subdirectories or\n",
    "user groups that aren't thousands of levels deep.\n",
    "But it might not be enough for\n",
    "mathematical functions like the ones we saw in the last video.\n",
    "Let's go back to our factorial example from the last video and\n",
    "try to call it with n equals 1,000. \n"
   ]
  },
  {
   "cell_type": "code",
   "execution_count": 6,
   "metadata": {
    "scrolled": true
   },
   "outputs": [
    {
     "ename": "RecursionError",
     "evalue": "maximum recursion depth exceeded in comparison",
     "output_type": "error",
     "traceback": [
      "\u001b[0;31m---------------------------------------------------------------------------\u001b[0m",
      "\u001b[0;31mRecursionError\u001b[0m                            Traceback (most recent call last)",
      "\u001b[0;32m<ipython-input-6-58ab6b4e4a58>\u001b[0m in \u001b[0;36m<module>\u001b[0;34m\u001b[0m\n\u001b[0;32m----> 1\u001b[0;31m \u001b[0mfactorial\u001b[0m\u001b[0;34m(\u001b[0m\u001b[0;36m10000\u001b[0m\u001b[0;34m)\u001b[0m\u001b[0;34m\u001b[0m\u001b[0;34m\u001b[0m\u001b[0m\n\u001b[0m",
      "\u001b[0;32m<ipython-input-1-6fd2b03ad638>\u001b[0m in \u001b[0;36mfactorial\u001b[0;34m(n)\u001b[0m\n\u001b[1;32m      2\u001b[0m     \u001b[0;32mif\u001b[0m \u001b[0mn\u001b[0m\u001b[0;34m<\u001b[0m\u001b[0;36m2\u001b[0m\u001b[0;34m:\u001b[0m\u001b[0;34m\u001b[0m\u001b[0;34m\u001b[0m\u001b[0m\n\u001b[1;32m      3\u001b[0m         \u001b[0;32mreturn\u001b[0m \u001b[0;36m1\u001b[0m\u001b[0;34m\u001b[0m\u001b[0;34m\u001b[0m\u001b[0m\n\u001b[0;32m----> 4\u001b[0;31m     \u001b[0;32mreturn\u001b[0m \u001b[0mn\u001b[0m\u001b[0;34m*\u001b[0m\u001b[0mfactorial\u001b[0m\u001b[0;34m(\u001b[0m\u001b[0mn\u001b[0m\u001b[0;34m-\u001b[0m\u001b[0;36m1\u001b[0m\u001b[0;34m)\u001b[0m\u001b[0;34m\u001b[0m\u001b[0;34m\u001b[0m\u001b[0m\n\u001b[0m\u001b[1;32m      5\u001b[0m \u001b[0;34m\u001b[0m\u001b[0m\n\u001b[1;32m      6\u001b[0m \u001b[0mfactorial\u001b[0m\u001b[0;34m(\u001b[0m\u001b[0;36m4\u001b[0m\u001b[0;34m)\u001b[0m\u001b[0;34m\u001b[0m\u001b[0;34m\u001b[0m\u001b[0m\n",
      "... last 1 frames repeated, from the frame below ...\n",
      "\u001b[0;32m<ipython-input-1-6fd2b03ad638>\u001b[0m in \u001b[0;36mfactorial\u001b[0;34m(n)\u001b[0m\n\u001b[1;32m      2\u001b[0m     \u001b[0;32mif\u001b[0m \u001b[0mn\u001b[0m\u001b[0;34m<\u001b[0m\u001b[0;36m2\u001b[0m\u001b[0;34m:\u001b[0m\u001b[0;34m\u001b[0m\u001b[0;34m\u001b[0m\u001b[0m\n\u001b[1;32m      3\u001b[0m         \u001b[0;32mreturn\u001b[0m \u001b[0;36m1\u001b[0m\u001b[0;34m\u001b[0m\u001b[0;34m\u001b[0m\u001b[0m\n\u001b[0;32m----> 4\u001b[0;31m     \u001b[0;32mreturn\u001b[0m \u001b[0mn\u001b[0m\u001b[0;34m*\u001b[0m\u001b[0mfactorial\u001b[0m\u001b[0;34m(\u001b[0m\u001b[0mn\u001b[0m\u001b[0;34m-\u001b[0m\u001b[0;36m1\u001b[0m\u001b[0;34m)\u001b[0m\u001b[0;34m\u001b[0m\u001b[0;34m\u001b[0m\u001b[0m\n\u001b[0m\u001b[1;32m      5\u001b[0m \u001b[0;34m\u001b[0m\u001b[0m\n\u001b[1;32m      6\u001b[0m \u001b[0mfactorial\u001b[0m\u001b[0;34m(\u001b[0m\u001b[0;36m4\u001b[0m\u001b[0;34m)\u001b[0m\u001b[0;34m\u001b[0m\u001b[0;34m\u001b[0m\u001b[0m\n",
      "\u001b[0;31mRecursionError\u001b[0m: maximum recursion depth exceeded in comparison"
     ]
    }
   ],
   "source": [
    "factorial(10000)"
   ]
  },
  {
   "cell_type": "markdown",
   "metadata": {},
   "source": [
    "#### 3.3.3 Additional Recursion Sources\n",
    "\n",
    "A recursive function must include a recursive case and base case. The recursive case calls the function again, with a different value. The base case returns a value without calling the same function.\n",
    "\n",
    "A recursive function will usually have this structure:\n",
    "\n",
    "`\n",
    "def recursive_function(parameters):\n",
    "    if base_case_condition(parameters):\n",
    "        return base_case_value\n",
    "    recursive_function(modified_parameters)\n",
    "`\n",
    "\n",
    "For more information on recursion, check out these resources:\n",
    "\n",
    "- [Wikipedia Recursion page](https://www.wikiwand.com/en/Recursion)\n",
    "- See what happens when you Search Google for Recursion"
   ]
  },
  {
   "cell_type": "markdown",
   "metadata": {},
   "source": [
    "#### 3.3.4 Practice Quiz: Recursion\n",
    "\n",
    "1. What is recursion used for? Ans: Recursion lets us tackle complex problems by reducing the problem to a simpler one.\n",
    "\n",
    "2. Which of these activities are good use cases for recursive programs? Check all that apply.\n",
    "\n",
    "- Going through a file system collecting information related to directories and files.\n",
    "\n",
    "- Managing permissions assigned to groups inside a company, when each group can contain both subgroups and users.\n",
    "\n",
    "3. Fill in the blanks to make the is_power_of function return whether the number is a power of the given base. Note: base is assumed to be a positive number. Tip: for functions that return a boolean value, you can return the result of a comparison."
   ]
  },
  {
   "cell_type": "code",
   "execution_count": 8,
   "metadata": {},
   "outputs": [
    {
     "name": "stdout",
     "output_type": "stream",
     "text": [
      "True\n",
      "True\n",
      "False\n"
     ]
    }
   ],
   "source": [
    "def is_power_of(number, base):\n",
    "  # Base case: when number is smaller than base.\n",
    "  if number < base:\n",
    "    # If number is equal to 1, it's a power (base**0).\n",
    "    if number == 1:\n",
    "        return True\n",
    "    return False\n",
    "\n",
    "  # Recursive case: keep dividing number by base.\n",
    "  return is_power_of(number/base,base)\n",
    "\n",
    "print(is_power_of(8,2)) # Should be True\n",
    "print(is_power_of(64,4)) # Should be True\n",
    "print(is_power_of(70,10)) # Should be False"
   ]
  },
  {
   "cell_type": "markdown",
   "metadata": {},
   "source": [
    "4. The count_users function recursively counts the amount of users that belong to a group in the company system, by going through each of the members of a group and if one of them is a group, recursively calling the function and counting the members. But it has a bug! Can you spot the problem and fix it? Code in the right way:"
   ]
  },
  {
   "cell_type": "code",
   "execution_count": null,
   "metadata": {},
   "outputs": [],
   "source": [
    "def count_users(group):\n",
    "    count = 0\n",
    "    for member in get_members(group):\n",
    "        if is_group(member):\n",
    "            count += count_users(member)\n",
    "        else:\n",
    "            count += 1\n",
    "    return count\n",
    "\n",
    "print(count_users(\"sales\")) # Should be 3\n",
    "print(count_users(\"engineering\")) # Should be 8\n",
    "print(count_users(\"everyone\")) # Should be 18"
   ]
  },
  {
   "cell_type": "markdown",
   "metadata": {},
   "source": [
    "5. Implement the sum_positive_numbers function, as a recursive function that returns the sum of all positive numbers between the number n received and 1. For example, when n is 3 it should return 1+2+3=6, and when n is 5 it should return 1+2+3+4+5=15."
   ]
  },
  {
   "cell_type": "code",
   "execution_count": null,
   "metadata": {},
   "outputs": [],
   "source": [
    "def sum_positive_numbers(n):\n",
    "    # The base case is n being smaller than 1\n",
    "    if n < 1:\n",
    "        return 0\n",
    "    return n + sum_positive_numbers(n-1)\n",
    "\n",
    "print(sum_positive_numbers(3)) # Should be 6\n",
    "print(sum_positive_numbers(5)) # Should be 15"
   ]
  },
  {
   "cell_type": "markdown",
   "metadata": {},
   "source": [
    "### 3.4 Module 3 Graded Assesment\n",
    "\n",
    "1. Fill in the blanks of this code to print out the numbers 1 through 7."
   ]
  },
  {
   "cell_type": "code",
   "execution_count": null,
   "metadata": {},
   "outputs": [],
   "source": [
    "number = 1\n",
    "while number <= 7:\n",
    "    print(number, end=\" \")\n",
    "    number += 1"
   ]
  },
  {
   "cell_type": "markdown",
   "metadata": {},
   "source": [
    "2. The show_letters function should print out each letter of a word on a separate line. Fill in the blanks to make that happen."
   ]
  },
  {
   "cell_type": "code",
   "execution_count": null,
   "metadata": {},
   "outputs": [],
   "source": [
    "def show_letters(word):\n",
    "    for letter in word:\n",
    "        print(letter)\n",
    "\n",
    "show_letters(\"Hello\")\n",
    "# Should print one line per letter"
   ]
  },
  {
   "cell_type": "markdown",
   "metadata": {},
   "source": [
    "3. Complete the function digits(n) that returns how many digits the number has. For example: 25 has 2 digits and 144 has 3 digits. Tip: you can figure out the digits of a number by dividing it by 10 once per digit until there are no digits left."
   ]
  },
  {
   "cell_type": "code",
   "execution_count": null,
   "metadata": {},
   "outputs": [],
   "source": [
    "def digits(n):\n",
    "    count = 0\n",
    "    if n == 0:\n",
    "        return 1\n",
    "    while (n >= 1):\n",
    "        count += 1\n",
    "        n = n / 10\n",
    "    return count\n",
    "\n",
    "print(digits(25))   # Should print 2\n",
    "print(digits(144))  # Should print 3\n",
    "print(digits(1000)) # Should print 4\n",
    "print(digits(0))    # Should print 1"
   ]
  },
  {
   "cell_type": "markdown",
   "metadata": {},
   "source": [
    "4. This function prints out a multiplication table (where each number is the result of multiplying the first number of its row by the number at the top of its column). Fill in the blanks so that calling multiplication_table(1, 3) will print out:\n",
    "\n",
    "1 2 3\n",
    "\n",
    "2 4 6\n",
    "\n",
    "3 6 9"
   ]
  },
  {
   "cell_type": "code",
   "execution_count": null,
   "metadata": {},
   "outputs": [],
   "source": [
    "def multiplication_table(start, stop):\n",
    "    for x in range(start,stop+1):\n",
    "        for y in range(start,stop+1):\n",
    "            print(str(x*y), end=\" \")\n",
    "        print()\n",
    "\n",
    "multiplication_table(1, 3)\n",
    "# Should print the multiplication table shown above"
   ]
  },
  {
   "cell_type": "markdown",
   "metadata": {},
   "source": [
    "5. The counter function counts down from start to stop when start is bigger than stop, and counts up from start to stop otherwise. Fill in the blanks to make this work correctly."
   ]
  },
  {
   "cell_type": "code",
   "execution_count": 1,
   "metadata": {},
   "outputs": [
    {
     "name": "stdout",
     "output_type": "stream",
     "text": [
      "Counting up: 1,2,3,4,5,6,7,8,9,10\n",
      "Counting down: 2,1\n",
      "Counting up: 5\n"
     ]
    }
   ],
   "source": [
    "def counter(start, stop):\n",
    "    x = start\n",
    "    if start > stop:\n",
    "        return_string = \"Counting down: \"\n",
    "        while x >= stop:\n",
    "            return_string += str(x)\n",
    "            if x != 1:\n",
    "                return_string += \",\"\n",
    "            x -= 1\n",
    "    else:\n",
    "        return_string = \"Counting up: \"\n",
    "        while x <= stop:\n",
    "            return_string += str(x)\n",
    "            if x != stop:\n",
    "                return_string += \",\"\n",
    "            x += 1\n",
    "    return return_string\n",
    "\n",
    "print(counter(1, 10)) # Should be \"Counting up: 1,2,3,4,5,6,7,8,9,10\"\n",
    "print(counter(2, 1)) # Should be \"Counting down: 2,1\"\n",
    "print(counter(5, 5)) # Should be \"Counting up: 5\""
   ]
  },
  {
   "cell_type": "markdown",
   "metadata": {},
   "source": [
    "6. The even_numbers function returns a space-separated string of all positive numbers that are divisible by 2, up to and including the maximum that's passed into the function. For example, even_numbers(6) returns “2 4 6”. Fill in the blank to make this work"
   ]
  },
  {
   "cell_type": "code",
   "execution_count": null,
   "metadata": {},
   "outputs": [],
   "source": [
    "def even_numbers(maximum):\n",
    "    return_string = \"\"\n",
    "    for x in range(1,maximum,2):\n",
    "        return_string += str(x) + \" \"\n",
    "    return return_string.strip()\n",
    "\n",
    "print(even_numbers(6))  # Should be 2 4 6\n",
    "print(even_numbers(10)) # Should be 2 4 6 8 10\n",
    "print(even_numbers(1))  # No numbers displayed\n",
    "print(even_numbers(3))  # Should be 2\n",
    "print(even_numbers(0))  # No numbers displayed"
   ]
  },
  {
   "cell_type": "markdown",
   "metadata": {},
   "source": [
    "7. The following code raises an error when executed. What's the reason for the error?"
   ]
  },
  {
   "cell_type": "code",
   "execution_count": 4,
   "metadata": {},
   "outputs": [],
   "source": [
    "def decade_counter():\n",
    "    while year < 50:\n",
    "        year += 10\n",
    "    return year"
   ]
  },
  {
   "cell_type": "markdown",
   "metadata": {},
   "source": [
    "Asw: Failure to initialize variables\n",
    "\n",
    "8. What is the value of x at the end of the following code?"
   ]
  },
  {
   "cell_type": "code",
   "execution_count": 5,
   "metadata": {},
   "outputs": [
    {
     "name": "stdout",
     "output_type": "stream",
     "text": [
      "1\n",
      "4\n",
      "7\n"
     ]
    }
   ],
   "source": [
    "for x in range(1, 10, 3):\n",
    "    print(x)"
   ]
  },
  {
   "cell_type": "markdown",
   "metadata": {},
   "source": [
    "9. What is the value of y at the end of the following code?"
   ]
  },
  {
   "cell_type": "code",
   "execution_count": null,
   "metadata": {},
   "outputs": [],
   "source": [
    "for x in range(10):\n",
    "    for y in range(x):\n",
    "        print(y)"
   ]
  },
  {
   "cell_type": "markdown",
   "metadata": {},
   "source": [
    "10. How does this function need to be called to print yes, no, and maybe as possible options to vote for?"
   ]
  },
  {
   "cell_type": "code",
   "execution_count": 7,
   "metadata": {},
   "outputs": [
    {
     "name": "stdout",
     "output_type": "stream",
     "text": [
      "Possible option:yes\n",
      "Possible option:no\n",
      "Possible option:maybe\n"
     ]
    }
   ],
   "source": [
    "def votes(params):\n",
    "    for vote in params:\n",
    "        print(\"Possible option:\" + vote)\n",
    "#Ans: \n",
    "votes(['yes','no','maybe'])"
   ]
  },
  {
   "cell_type": "markdown",
   "metadata": {},
   "source": [
    "## Module 4 - Strings, Lists and Dictionaries\n",
    "\n",
    "In this module you'll dive into more advanced ways to manipulate strings using indexing, slicing, and advanced formatting. You'll also explore the more advanced data types: lists, tuples, and dictionaries. You'll learn to store, reference, and manipulate data in these structures, as well as combine them to store complex data structures."
   ]
  }
 ],
 "metadata": {
  "kernelspec": {
   "display_name": "Python 3",
   "language": "python",
   "name": "python3"
  },
  "language_info": {
   "codemirror_mode": {
    "name": "ipython",
    "version": 3
   },
   "file_extension": ".py",
   "mimetype": "text/x-python",
   "name": "python",
   "nbconvert_exporter": "python",
   "pygments_lexer": "ipython3",
   "version": "3.8.5"
  }
 },
 "nbformat": 4,
 "nbformat_minor": 4
}

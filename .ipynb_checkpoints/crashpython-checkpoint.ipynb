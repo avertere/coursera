{
 "cells": [
  {
   "cell_type": "markdown",
   "metadata": {},
   "source": [
    "# Crash Course on Python\n",
    "\n",
    "by Google cia Coursera\n"
   ]
  },
  {
   "cell_type": "markdown",
   "metadata": {},
   "source": [
    "## Module 1 - Hello Python!\n",
    "\n",
    "In this module we’ll dive into the basics of programming languages and syntax, as well as automation using scripting. We’ll also introduce you to the Python programming language and some of the benefits it offers. Last up, we’ll cover some basic functions and keywords of the language, along with some arithmetic operations."
   ]
  },
  {
   "cell_type": "markdown",
   "metadata": {},
   "source": [
    "### 1.1 What is Python?\n",
    "\n",
    "Python is a programming language that lets you work more quickly and integrate your systems more effectively.\n",
    "\n",
    "#### More about Python\n",
    "\n",
    "##### Using Python on your own\n",
    "\n",
    "The best way to learn any programming language is to practice it on your own as much as you can. If you have Python installed on your computer, you can execute the interpreter by running the python3 command (or just python on Windows), and you can close it by typing exit() or Ctrl-D.\n",
    "\n",
    "If you don’t already have Python installed on your machine, that’s alright. You can still practice by using one of the many online Python interpreters or codepads available online. There’s not much difference between an interpreter and a codepad. An interpreter is more interactive than a codepad, but they both let you execute code and see the results. Below, you’ll find links to some of the most popular online interpreters and codepads. Give them a go to find your favorite.\n",
    "\n",
    "- https://www.python.org/shell/\n",
    "- https://www.onlinegdb.com/online_python_interpreter\n",
    "- https://repl.it/languages/python3\n",
    "- https://www.tutorialspoint.com/execute_python3_online.php\n",
    "- https://rextester.com/l/python3_online_compiler\n",
    "- https://trinket.io/python3\n",
    "\n",
    "##### Additional Python resources\n",
    "\n",
    "While this course will give you information about how Python works and how to write scripts in Python, you’ll likely want to find out more about specific parts of the language. Here are some great ways to help you find additional info: \n",
    "\n",
    "- Read the [official Python documentation](https://docs.python.org/3/).\n",
    "- Search for answers or ask a question on [Stack Overflow](https://stackoverflow.com/). \n",
    "- Subscribe to the Python [tutor](https://mail.python.org/mailman/listinfo/tutor) mailing list, where you can ask questions and collaborate with other Python learners.\n",
    "- Subscribe to the [Python-announce](https://mail.python.org/mailman3/lists/python-announce-list.python.org/) mailing list to read about the latest updates in the language.\n",
    "\n",
    "##### Python history and current status\n",
    "\n",
    "Python was released almost 30 years ago and has a rich history. You can read more about it on the [History of Python](https://www.wikiwand.com/en/History_of_Python) Wikipedia page or in the section on the [history of the software](https://docs.python.org/3.0/license.html) from the official Python documentation.\n",
    "Python has recently been called the fastest growing programming language. If you're interested in why this is and how it’s measured, you can find out more in these articles:\n",
    "\n",
    "- [The Incredible Growth of Python](https://stackoverflow.blog/2017/09/06/incredible-growth-python/) (Stack Overflow)\n",
    "- [Why is Python Growing So Quickly - Future Trends](https://www.netguru.com/blog/future-of-python) (Netguru)\n",
    "- [By the numbers: Python community trends in 2017/2018](https://opensource.com/article/18/5/numbers-python-community-trends) (Opensource.com)\n",
    "- [Developer Survey Results 2018](https://insights.stackoverflow.com/survey/2018#technology) (Stack Overflow)\n"
   ]
  },
  {
   "cell_type": "markdown",
   "metadata": {},
   "source": [
    "### 1.2 First Programming Concepts Cheat Sheet\n",
    "\n",
    "\n",
    "#### Functions and Keywords\n",
    "\n",
    "Functions and keywords are the building blocks of a language’s syntax.\n",
    "\n",
    "Functions are pieces of code that perform a unit of work. In the examples we've seen so far, we've only encountered the `print()` function, which prints a message to the screen. We'll learn about a lot of other functions in later lessons but, if you're too curious to wait until then, you can discover all the functions available here.\n",
    "\n",
    "Keywords are reserved words that are used to construct instructions. We briefly encountered for and in in our first Python example, and we'll use a bunch of other keywords as we go through the course. For reference, these are all the reserved keywords:\n",
    "\n",
    "\n",
    "`False   class     finally  is        return `\\\n",
    "`None    continue  for      lambda    try`    \\\n",
    "`True    def       from     nonlocal  while`  \\\n",
    "`and     del       global   not       with   `\\\n",
    "`as      elif      if       or        yield  `\\\n",
    "`assert  else      import   pass      break  `\\\n",
    "`except  in        raise                                        `                    \n",
    "\n",
    "\n",
    "You don't need to learn this list; we'll dive into each keyword as we encounter them. In the meantime, you can see examples of keyword usage here.\n",
    "\n",
    "#### Arithmetic operators\n",
    "\n",
    "Python can operate with numbers using the usual mathematical operators, and some special operators, too. These are all of them (we'll explore the last two in later videos).\n",
    "\n",
    "- `a + b` = Adds a and b\n",
    "- `a - b` = Subtracts b from a\n",
    "- `a * b` = Multiplies a and b\n",
    "- `a / b` = Divides a by b\n",
    "- `a ** b` = Elevates a to the power of b. For non integer values of b, this becomes a root (i.e. `a**(1/2)` is the square root of a)\n",
    "- `a // b` = The integer part of the integer division of a by b\n",
    "- `a % b` = The remainder part of the integer division of a by b\n"
   ]
  },
  {
   "cell_type": "markdown",
   "metadata": {},
   "source": [
    "## Module 2 - Basic Python Syntax\n",
    "\n",
    "In this module you’ll learn about different data types in Python, how to identify them, and how to convert between them. You’ll also learn how to use variables to assign data and to reference variables. You’ll deep dive into functions: how to define them, pass them parameters, and have them return information. You’ll explore the concepts of code reuse, code style, and refactoring complex code, along with effectively using code comments. Finally, you’ll learn about comparing data using equality and logical operators, and leveraging these to build complex branching scripts using if statements."
   ]
  },
  {
   "cell_type": "markdown",
   "metadata": {},
   "source": [
    "### 2.1 Expressions and Variables\n",
    "\n",
    "####  2.1.1 Data Types\n",
    "\n",
    "In Python, text in between quotes -- either single or double quotes -- is a `string` data type. An `integer` is a whole number, without a fraction, while a `float` is a real number that can contain a fractional part. For example, 1, 7, 342 are all integers, while 5.3, 3.14159 and 6.0 are all floats. When attempting to mix incompatible data types, you may encounter a `TypeError`. You can always check the data type of something using the `type()` function.\n",
    "\n",
    "####  2.1.2 Variables\n",
    "\n",
    "*Variables* are names that we give to certain values in our programs. \n",
    "\n",
    "Think of variables as containers for data. When you create a variable in your code, your computer reserves a chunk of its own memory to store that value. This lets the computer access the variable later to read or modify the value. Let's see this in action:\n",
    "\n",
    "**Example:** Imagine a simple script that calculates the area of\n",
    "a rectangle using the formula area equals length times width.\n",
    "Area, length and width can all be represented by variables like in the code bellow. In this script we are creating three variables and storing different values in each. "
   ]
  },
  {
   "cell_type": "code",
   "execution_count": 1,
   "metadata": {},
   "outputs": [
    {
     "name": "stdout",
     "output_type": "stream",
     "text": [
      "20\n"
     ]
    }
   ],
   "source": [
    "length = 10\n",
    "width = 2\n",
    "area = length * width\n",
    "print(area)"
   ]
  },
  {
   "cell_type": "markdown",
   "metadata": {},
   "source": [
    "*PS:* The process of storing a value inside a variable is called assignment"
   ]
  },
  {
   "cell_type": "markdown",
   "metadata": {},
   "source": [
    "Generally, you can name variables whatever you like but there are some restrictions:\n",
    "\n",
    "1. Don't use keywords or functions that Python reserves for its own\n",
    "2. Don't use spaces\n",
    "3. Must start with a letter or an underscore(_)\n",
    "4. Must be made up of only letters, numbers, and underscores (_)\n",
    "\n",
    "**Examples:**\n",
    "\n",
    "- i_am_a_variable is valid\n",
    "- i_am_a_variable2 is valid\n",
    "- 1_am_a_variable is invalid since it violates rule 3.\n",
    "- apples_&_oranges is invalid since it violates rule 4.\n",
    "\n",
    "Python variables are case sensitive, so capitalization matters.\n",
    "Lowercase name, uppercase name and all caps name are all valid and different variable names. "
   ]
  },
  {
   "cell_type": "markdown",
   "metadata": {},
   "source": [
    "#### 2.1.3 Expressions, Numbers, and Type Conversions\n",
    "\n",
    "We saw how we can't use the plus operator between an integer and a string because they're different data types. But what happens when we try to operate with an integer and a float instead, let's find out."
   ]
  },
  {
   "cell_type": "code",
   "execution_count": 2,
   "metadata": {},
   "outputs": [
    {
     "name": "stdout",
     "output_type": "stream",
     "text": [
      "15.5\n"
     ]
    }
   ],
   "source": [
    "print(7+8.5)"
   ]
  },
  {
   "cell_type": "markdown",
   "metadata": {},
   "source": [
    "Error-free, Python has no problem performing this operation. But what's up with that, aren't integer and a float two different data types? They sure are but there's a lot happening under the hood here. Behind the scenes the computer is busy automatically converting our integer seven into a float seven. This lets Python then add together the values to return results that is also a float.\n",
    "\n",
    "*We call this process, implicit conversion.*\n",
    "\n",
    "The interpreter automatically converts one data type into another.\n",
    "We've called this out before, but it's worth highlighting again that\n",
    "Python operations aren't just restricted to numbers. You can also use the plus operator to add together strings. "
   ]
  },
  {
   "cell_type": "code",
   "execution_count": 3,
   "metadata": {},
   "outputs": [
    {
     "name": "stdout",
     "output_type": "stream",
     "text": [
      "This is pretty neat!\n"
     ]
    }
   ],
   "source": [
    "print('This ' + 'is ' + 'pretty '+'neat!')"
   ]
  },
  {
   "cell_type": "markdown",
   "metadata": {},
   "source": [
    "So what if you really want to combine a string and a number, is it possible? It sure is but only with an explicit conversion. In Python, to convert between one data type and another, we call a function with\n",
    "the name of the type we're converting to. Let's see how this works. "
   ]
  },
  {
   "cell_type": "code",
   "execution_count": 4,
   "metadata": {},
   "outputs": [
    {
     "name": "stdout",
     "output_type": "stream",
     "text": [
      "The area of the triangle is: 9.0\n"
     ]
    }
   ],
   "source": [
    "base = 6\n",
    "height = 3\n",
    "area = (base*height)/2\n",
    "print('The area of the triangle is: ' + str(area))"
   ]
  },
  {
   "cell_type": "markdown",
   "metadata": {},
   "source": [
    "#### 2.1.4 Implicit vs Explicit Conversion\n",
    "\n",
    "As we saw earlier, some data types can be mixed and matched due to implicit conversion. Implicit conversion is where the interpreter helps us out and automatically converts one data type into another, without having to explicitly tell it to do so.\n",
    "\n",
    "By contrast, explicit conversion is where we manually convert from one data type to another by calling the relevant function for the data type we want to convert to. We used this in our video example when we wanted to print a number alongside some text. Before we could do that, we needed to call the `str()` function to convert the number into a string. Once the number was explicitly converted to a string, we could join it with the rest of our textual string and print the result."
   ]
  },
  {
   "cell_type": "markdown",
   "metadata": {},
   "source": [
    "#### 2.1.5 Practice Quiz: Expressions and Variables\n",
    "\n",
    "1. In this scenario, two friends are eating dinner at a restaurant. The bill comes in the amount of 47.28 dollars. The friends decide to split the bill evenly between them, after adding 15% tip for the service. Calculate the tip, the total amount to pay, and each friend's share, then output a message saying \"Each person needs to pay: \" followed by the resulting number."
   ]
  },
  {
   "cell_type": "code",
   "execution_count": 5,
   "metadata": {},
   "outputs": [
    {
     "name": "stdout",
     "output_type": "stream",
     "text": [
      "Each person needs to pay: 27.186\n"
     ]
    }
   ],
   "source": [
    "bill = 47.28\n",
    "tip = bill * 0.15\n",
    "total = bill + tip\n",
    "share = total/2\n",
    "print(\"Each person needs to pay: \" + str(share))"
   ]
  },
  {
   "cell_type": "markdown",
   "metadata": {},
   "source": [
    "2. This code is supposed to take two numbers, divide one by another so that the result is equal to 1, and display the result on the screen. Unfortunately, there is an error in the code. Find the error and fix it, so that the output is correct."
   ]
  },
  {
   "cell_type": "code",
   "execution_count": 6,
   "metadata": {},
   "outputs": [
    {
     "name": "stdout",
     "output_type": "stream",
     "text": [
      "1.0\n"
     ]
    }
   ],
   "source": [
    "numerator = 10\n",
    "denominator = 10  # It was 0 before. We can't divide by 0\n",
    "result = numerator / denominator\n",
    "print(result)"
   ]
  },
  {
   "cell_type": "markdown",
   "metadata": {},
   "source": [
    "3. Question 3\n",
    "\n",
    "Combine the variables to display the sentence \"How do you like Python so far?\" "
   ]
  },
  {
   "cell_type": "code",
   "execution_count": 7,
   "metadata": {},
   "outputs": [
    {
     "name": "stdout",
     "output_type": "stream",
     "text": [
      "How do you like Python so far?\n"
     ]
    }
   ],
   "source": [
    "word1 = \"How\"\n",
    "word2 = \"do\"\n",
    "word3 = \"you\"\n",
    "word4 = \"like\"\n",
    "word5 = \"Python\"\n",
    "word6 = \"so\"\n",
    "word7 = \"far?\"\n",
    "\n",
    "print(word1 + ' ' + word2 + ' ' + word3 + ' ' + word4 + ' ' + word5 + ' ' + word6 + ' ' + word7)"
   ]
  },
  {
   "cell_type": "markdown",
   "metadata": {},
   "source": [
    "4. This code is supposed to display \"2 + 2 = 4\" on the screen, but there is an error. Find the error in the code and fix it, so that the output is correct."
   ]
  },
  {
   "cell_type": "code",
   "execution_count": 8,
   "metadata": {},
   "outputs": [
    {
     "name": "stdout",
     "output_type": "stream",
     "text": [
      "2 + 2 = 4\n"
     ]
    }
   ],
   "source": [
    "# print(\"2 + 2 = \" + (2 + 2))\n",
    "\n",
    "# we need to do an explicit conversion\n",
    "\n",
    "print(\"2 + 2 = \" + str((2 + 2)))"
   ]
  },
  {
   "cell_type": "markdown",
   "metadata": {},
   "source": [
    "5. What do you call a combination of numbers, symbols, or other values that produce a result when evaluated? Ans: An expression."
   ]
  },
  {
   "cell_type": "markdown",
   "metadata": {},
   "source": [
    "### 2.2 Functions\n",
    "\n",
    "#### 2.2.1 Defining Functions\n",
    "\n",
    "We looked at a few examples of built-in functions in Python(`str()`, `type()`, `print()`), but being able to define your own functions is incredibly powerful. \n",
    "\n",
    "We start a function definition with the `def` keyword, followed by the `name` we want to give our function. After the name, we have the `parameters`, also called `arguments`, for the function enclosed in parentheses. A function can have no parameters, or it can have multiple parameters. Parameters allow us to call a function and pass it data, with the data being available inside the function as variables with the same name as the parameters. Lastly, we put a colon at the end of the line.\n",
    "\n",
    "After the colon, the `function body` starts. It’s important to note that in Python the function body is delimited by indentation. This means that all code indented to the right following a function definition is part of the function body. The first line that’s no longer indented is the boundary of the function body. It’s up to you how many spaces you use when indenting -- just make sure to be consistent. So if you choose to indent with four spaces, you need to use four spaces everywhere in your code.\n",
    "\n",
    "`def function_name(arg1,arg2,...,argn):\n",
    "     function_body`\n",
    "\n",
    "**Example**"
   ]
  },
  {
   "cell_type": "code",
   "execution_count": 9,
   "metadata": {},
   "outputs": [
    {
     "name": "stdout",
     "output_type": "stream",
     "text": [
      "Welcome, Kay\n",
      "You are part of IT Support\n"
     ]
    }
   ],
   "source": [
    "def greeting(name, department):\n",
    "    print('Welcome, '+ name)\n",
    "    print('You are part of ' + department)\n",
    "    \n",
    "greeting('Kay', 'IT Support')"
   ]
  },
  {
   "cell_type": "markdown",
   "metadata": {},
   "source": [
    "#### 2.2.2 Returning Values\n",
    "\n",
    "Sometimes we don't want a function to simply run and finish. We may want a function to manipulate data we passed it and then return the result to us. This is where the concept of return values comes in handy. We use the `return` keyword in a function, which tells the function to pass data back. When we call the function, we can store the returned value in a variable. Return values allow our functions to be more flexible and powerful, so they can be reused and called multiple times.\n",
    "\n",
    "Functions can even return multiple values. Just don't forget to store all returned values in variables! You could also have a function return nothing, in which case the function simply exits.\n",
    "\n",
    "**Examples**"
   ]
  },
  {
   "cell_type": "code",
   "execution_count": 10,
   "metadata": {},
   "outputs": [
    {
     "name": "stdout",
     "output_type": "stream",
     "text": [
      "The sum of both areas is: 20.5\n"
     ]
    }
   ],
   "source": [
    "def area_triangle(base,height):\n",
    "    return base*height/2\n",
    "\n",
    "area_a = area_triangle(5,4)\n",
    "area_b = area_triangle(7,3)\n",
    "print('The sum of both areas is: ' + str(area_a + area_b))"
   ]
  },
  {
   "cell_type": "code",
   "execution_count": 11,
   "metadata": {},
   "outputs": [
    {
     "name": "stdout",
     "output_type": "stream",
     "text": [
      "11715\n"
     ]
    }
   ],
   "source": [
    "def get_seconds(hours, minutes, seconds):\n",
    "  return 3600*hours + 60*minutes + seconds\n",
    "\n",
    "amount_a = get_seconds(2,30,0)\n",
    "amount_b = get_seconds(0,45,15)\n",
    "result = amount_a + amount_b\n",
    "print(result)"
   ]
  },
  {
   "cell_type": "code",
   "execution_count": 12,
   "metadata": {},
   "outputs": [
    {
     "name": "stdout",
     "output_type": "stream",
     "text": [
      "1 23 20\n"
     ]
    }
   ],
   "source": [
    "def convert_seconds(seconds):\n",
    "    hours = seconds // 3600\n",
    "    minutes = (seconds - hours*3600) // 60\n",
    "    remaining_seconds = seconds- hours*3600 - minutes*60\n",
    "    return hours, minutes, remaining_seconds\n",
    "\n",
    "hours, minutes, seconds = convert_seconds(5000)\n",
    "print(hours, minutes, seconds)"
   ]
  },
  {
   "cell_type": "markdown",
   "metadata": {},
   "source": [
    "#### 2.2.3 The Principles of Code Reuse\n",
    "\n",
    "Intead of"
   ]
  },
  {
   "cell_type": "code",
   "execution_count": 13,
   "metadata": {},
   "outputs": [
    {
     "name": "stdout",
     "output_type": "stream",
     "text": [
      "June has 30 days.\n",
      "July has 31 days.\n"
     ]
    }
   ],
   "source": [
    "june_days = 30\n",
    "print(\"June has \" + str(june_days) + \" days.\")\n",
    "july_days = 31\n",
    "print(\"July has \" + str(july_days) + \" days.\")"
   ]
  },
  {
   "cell_type": "markdown",
   "metadata": {},
   "source": [
    "we can use"
   ]
  },
  {
   "cell_type": "code",
   "execution_count": 14,
   "metadata": {},
   "outputs": [
    {
     "name": "stdout",
     "output_type": "stream",
     "text": [
      "June has 30 days.\n",
      "July has 31 days.\n"
     ]
    }
   ],
   "source": [
    "def month_days(month,days):\n",
    "    print(month + ' has ' + str(days) + ' days.')\n",
    "    \n",
    "month_days('June',30)\n",
    "month_days('July',31)"
   ]
  },
  {
   "cell_type": "markdown",
   "metadata": {},
   "source": [
    "#### 2.2.4 Code Style\n",
    "\n",
    "On the whole, having good or bad style when you write code doesn't make much difference between a script succeeding or crashing, but it can make a big difference for the people who use it and contribute to it.\n",
    "Poor programming style can make life difficult for the IT specialists or system administrators who have to read the script after it's written or make changes to it. So it works with a new system. Bad style can even give the scripts author a headache if it's been awhile since they've wrote it. Imagine having to rewrite your own code because it's too messy to understand. On the flip side, good style can make a script look almost like natural human language. It can make the scripts intent and construction immediately clear to the reader. Goods style makes life easier for people who have to maintain the code and helps them\n",
    "understand what it does and how it does it. It can also reduce errors since it makes updating the code easier and more straightforward\n",
    "and most importantly good style makes you look cool, right? \n",
    "\n",
    "Although there are no hard and fast rules that apply to every programming language and situation, keeping a few principles in mind will go a long way to creating good well styled code. \n",
    "\n",
    "1. self-documenting code: written in a way that's readable and doesn't conceal its intent\n",
    "\n",
    "**Example: bad style**"
   ]
  },
  {
   "cell_type": "code",
   "execution_count": 15,
   "metadata": {},
   "outputs": [
    {
     "name": "stdout",
     "output_type": "stream",
     "text": [
      "78.5\n"
     ]
    }
   ],
   "source": [
    "def calculate(d):\n",
    "    q = 3.14\n",
    "    z = q*(d**2)\n",
    "    print(z)\n",
    "    \n",
    "calculate(5)"
   ]
  },
  {
   "cell_type": "markdown",
   "metadata": {},
   "source": [
    "It has no clue about it can be used for.\n",
    "\n",
    "\n",
    "In programming lingo, when we re-write code to be more self-documenting, we call this process **refactoring**. So how would it look if we refactored this code? "
   ]
  },
  {
   "cell_type": "code",
   "execution_count": 16,
   "metadata": {},
   "outputs": [
    {
     "name": "stdout",
     "output_type": "stream",
     "text": [
      "78.5\n"
     ]
    }
   ],
   "source": [
    "def circle_area(radius):\n",
    "    pi = 3.14\n",
    "    area = pi*(radius**2)\n",
    "    print(area)\n",
    "    \n",
    "circle_area(5)"
   ]
  },
  {
   "cell_type": "markdown",
   "metadata": {},
   "source": [
    "Now, the names of the variable reflects their purpouses.\n",
    "\n",
    "When good naming and clean organization can't make the code clear,\n",
    "you can add a bit of explanatory texts to the code. You do this by adding what we call a comment. In Python, comments are indicated by the hash character. When your computer sees a hash character and understands that it should ignore everything that comes after\n",
    "that character on that line.\n",
    "\n",
    "**Example:**"
   ]
  },
  {
   "cell_type": "code",
   "execution_count": 17,
   "metadata": {},
   "outputs": [
    {
     "name": "stdout",
     "output_type": "stream",
     "text": [
      "The area is 30\n"
     ]
    }
   ],
   "source": [
    "def rectangle_area(base, height):\n",
    "    area = base*height  # the area is base*height\n",
    "    print(\"The area is \" + str(area))\n",
    "\n",
    "rectangle_area(5,6)"
   ]
  },
  {
   "cell_type": "markdown",
   "metadata": {},
   "source": [
    "#### 2.2.5 Practice Quiz: Functions\n",
    "\n",
    "1. This function converts miles to kilometers (km).\n",
    "\n",
    "    1. Complete the function to return the result of the conversion\n",
    "    2. Call the function to convert the trip distance from miles to kilometers\n",
    "    3. Fill in the blank to print the result of the conversion\n",
    "    4. Calculate the round-trip in kilometers by doubling the result, and fill in the blank to print the result"
   ]
  },
  {
   "cell_type": "code",
   "execution_count": 18,
   "metadata": {},
   "outputs": [
    {
     "name": "stdout",
     "output_type": "stream",
     "text": [
      "The distance in kilometers is 88.0\n",
      "The round-trip in kilometers is 176.0\n"
     ]
    }
   ],
   "source": [
    "# 1) Complete the function to return the result of the conversion\n",
    "def convert_distance(miles):\n",
    "    return miles * 1.6  # approximately 1.6 km in 1 mile\n",
    "\n",
    "my_trip_miles = 55\n",
    "\n",
    "# 2) Convert my_trip_miles to kilometers by calling the function above\n",
    "my_trip_km = convert_distance(my_trip_miles)\n",
    "\n",
    "# 3) Fill in the blank to print the result of the conversion\n",
    "print(\"The distance in kilometers is \" + str(my_trip_km))\n",
    "\n",
    "# 4) Calculate the round-trip in kilometers by doubling the result,\n",
    "#    and fill in the blank to print the result\n",
    "print(\"The round-trip in kilometers is \" + str(2*my_trip_km))"
   ]
  },
  {
   "cell_type": "markdown",
   "metadata": {},
   "source": [
    "2. This function compares two numbers and returns them in increasing order.\n",
    "\n",
    "    1. Fill in the blanks, so the print statement displays the result of the function call in order.\n",
    "\n",
    "Hint: if a function returns multiple values, don't forget to store these values in multiple variables"
   ]
  },
  {
   "cell_type": "code",
   "execution_count": 19,
   "metadata": {},
   "outputs": [
    {
     "name": "stdout",
     "output_type": "stream",
     "text": [
      "99 100\n"
     ]
    }
   ],
   "source": [
    "# This function compares two numbers and returns them\n",
    "# in increasing order.\n",
    "def order_numbers(number1, number2):\n",
    "    if number2 > number1:\n",
    "        return number1, number2\n",
    "    else:\n",
    "        return number2, number1\n",
    "\n",
    "# 1) Fill in the blanks so the print statement displays the result\n",
    "#    of the function call\n",
    "smaller, bigger = order_numbers(100, 99)\n",
    "print(smaller, bigger)"
   ]
  },
  {
   "cell_type": "markdown",
   "metadata": {},
   "source": [
    "3. What are the values passed into functions as input called?\n",
    "Ans: *Parameters*\n",
    "\n",
    "\n",
    "4. Let's revisit our lucky_number function. We want to change it, so that instead of printing the message, it returns the message. This way, the calling line can print the message, or do something else with it if needed. Fill in the blanks to complete the code to make it work."
   ]
  },
  {
   "cell_type": "code",
   "execution_count": 20,
   "metadata": {},
   "outputs": [
    {
     "name": "stdout",
     "output_type": "stream",
     "text": [
      "Hello Kay. Your lucky number is 27\n",
      "Hello Cameron. Your lucky number is 63\n"
     ]
    }
   ],
   "source": [
    "def lucky_number(name):\n",
    "    number = len(name) * 9\n",
    "    message = \"Hello \" + name + \". Your lucky number is \" + str(number)\n",
    "    return message\n",
    "   \n",
    "print(lucky_number(\"Kay\"))\n",
    "print(lucky_number(\"Cameron\"))"
   ]
  },
  {
   "cell_type": "markdown",
   "metadata": {},
   "source": [
    "### 2.3 Conditionals\n",
    "\n",
    "#### 2.3.1 Comparing Things\n",
    "\n",
    "In Python, we can use comparison operators to compare values. When a comparison is made, Python returns a boolean result, or simply a True or False. \n",
    "\n",
    "- To check if two values are the same, we can use the equality operator: `==` \n",
    "- To check if two values are not the same, we can use the not equals operator: `!=` \n",
    "\n",
    "We can also check if values are greater than or lesser than each other using `>` and `<`. If you try to compare data types that aren’t compatible, like checking if a string is greater than an integer, Python will throw a TypeError. \n",
    "\n",
    "We can make very complex comparisons by joining statements together using logical operators with our comparison operators. These logical operators are `and`, `or`, and `not`. When using the `and` operator, both sides of the statement being evaluated must be true for the whole statement to be true. When using the `or` operator, if either side of the comparison is true, then the whole statement is true. Lastly, the `not` operator simply inverts the value of the statement immediately following it. So if a statement evaluates to `True`, and we put the `not` operator in front of it, it would become `False`.\n"
   ]
  },
  {
   "cell_type": "code",
   "execution_count": 21,
   "metadata": {},
   "outputs": [
    {
     "name": "stdout",
     "output_type": "stream",
     "text": [
      "True\n",
      "False\n",
      "True\n",
      "True\n",
      "False\n",
      "True\n",
      "True\n"
     ]
    }
   ],
   "source": [
    "print(10>1)\n",
    "print(\"cat\" == \"dog\")\n",
    "print(1 != 2)\n",
    "# print(1 < '1') reults in a Error\n",
    "print(\"cat\" > \"Cat\")\n",
    "print('Yellow'>'Cyan' and 'Brown' > 'Magenta') \n",
    "print(25 > 50 or 1 != 2)\n",
    "print(not 42 == 'Answer')"
   ]
  },
  {
   "cell_type": "markdown",
   "metadata": {},
   "source": [
    "#### 2.3.2 Branching with if Statements\n",
    "\n",
    "We can use the concept of **branching** to have our code alter its execution sequence depending on the values of variables. We can use an `if` statement to evaluate a comparison. We start with the `if` keyword, followed by our comparison. We end the line with a colon. The `body` of the `if` statement is then indented to the right. If the comparison is True, the code inside the if body is executed. If the comparison evaluates to False, then the code block is skipped and will not be run.\n",
    "\n",
    "**Example**"
   ]
  },
  {
   "cell_type": "code",
   "execution_count": 22,
   "metadata": {},
   "outputs": [],
   "source": [
    "def hint_username(username):\n",
    "    if len(username) < 3:\n",
    "        print('Invalid username. Must be at least 3 characters long')"
   ]
  },
  {
   "cell_type": "code",
   "execution_count": 23,
   "metadata": {},
   "outputs": [],
   "source": [
    "def is_positive(number):\n",
    "    if number > 0:\n",
    "        return True"
   ]
  },
  {
   "cell_type": "markdown",
   "metadata": {},
   "source": [
    "#### 2.3.3 else Statements and the Modulo Operator\n",
    "\n",
    "We just covered the `if` statement, which executes code if an evaluation is true and skips the code if it’s false. But what if we wanted the code to do something different if the evaluation is false? We can do this using the `else` statement. The `else` statement follows an `if` block, and is composed of the keyword `else` followed by a colon. The `body` of the `else` statement is indented to the right, and will be expected if the above `if` statement doesn’t execute.\n",
    "\n",
    "\n",
    "**Example:**"
   ]
  },
  {
   "cell_type": "code",
   "execution_count": 24,
   "metadata": {},
   "outputs": [],
   "source": [
    "def hint_username(username):\n",
    "    if len(username) < 3:\n",
    "        print('Invalid username. Must be at least 3 characters long')\n",
    "    else:\n",
    "        print('Valid username')"
   ]
  },
  {
   "cell_type": "code",
   "execution_count": 25,
   "metadata": {},
   "outputs": [],
   "source": [
    "def is_positive(number):\n",
    "    if number > 0:\n",
    "        return True\n",
    "    else:\n",
    "        return False"
   ]
  },
  {
   "cell_type": "markdown",
   "metadata": {},
   "source": [
    "But the `else` statement doesn't necessarily have to be used.\n",
    "\n",
    "**Example:**"
   ]
  },
  {
   "cell_type": "code",
   "execution_count": 26,
   "metadata": {},
   "outputs": [],
   "source": [
    "def is_even(number):\n",
    "    if number % 2 ==0:\n",
    "        return True\n",
    "    return False"
   ]
  },
  {
   "cell_type": "markdown",
   "metadata": {},
   "source": [
    "In the Example above we touched on the modulo operator, which is represented by the percent sign: %. This operator performs integer division, but only returns the remainder of this division operation. If we’re dividing 5 by 2, the quotient is 2, and the remainder is 1. Two 2s can go into 5, leaving 1 left over. So 5%2 would return 1. Dividing 10 by 5 would give us a quotient of 2 with no remainder, since 5 can go into 10 twice with nothing left over. In this case, 10%2 would return 0, as there is no remainder."
   ]
  },
  {
   "cell_type": "markdown",
   "metadata": {},
   "source": [
    "#### 2.3.4 More Complex Branching with elif Statements\n",
    "\n",
    "Building off of the `if` and `else` blocks, which allow us to branch our code depending on the evaluation of one statement, the `elif` statement allows us even more comparisons to perform more complex branching. Very similar to the `if` statements, an `elif` statement starts with the `elif` keyword, followed by a comparison to be evaluated. This is followed by a colon, and then the code block on the next line, indented to the right. An `elif` statement must follow an `if` statement, and will only be evaluated if the `if` statement was evaluated as `false`. You can include multiple `elif` statements to build complex branching in your code to do all kinds of powerful things!\n",
    "\n",
    "**Examples**"
   ]
  },
  {
   "cell_type": "code",
   "execution_count": 27,
   "metadata": {},
   "outputs": [],
   "source": [
    "def hint_username(username):\n",
    "    if len(username) < 3:\n",
    "        print('Invalid username. Must be at least 3 characters long')\n",
    "    elif len(username) > 15:\n",
    "        print('Invalid username. Must be at most 15 characters long')\n",
    "    else:\n",
    "        print('Valid username')"
   ]
  },
  {
   "cell_type": "code",
   "execution_count": 28,
   "metadata": {},
   "outputs": [
    {
     "name": "stdout",
     "output_type": "stream",
     "text": [
      "Positive\n",
      "Zero\n",
      "Negative\n"
     ]
    }
   ],
   "source": [
    "# The number_group function should return \"Positive\" if \n",
    "# the number received is positive, \"Negative\" if it's \n",
    "# negative, and \"Zero\" if it's 0. Can you fill in the \n",
    "# gaps to make that happen?\n",
    "\n",
    "def number_group(number):\n",
    "    if number>0:\n",
    "        return \"Positive\"\n",
    "    elif number<0:\n",
    "        return \"Negative\"\n",
    "    else:\n",
    "        return \"Zero\"\n",
    "\n",
    "print(number_group(10)) #Should be Positive\n",
    "print(number_group(0))  #Should be Zero\n",
    "print(number_group(-5)) #Should be Negative"
   ]
  },
  {
   "cell_type": "markdown",
   "metadata": {},
   "source": [
    "#### 2.3.5 Conditionals Cheat Sheet\n",
    "\n",
    "##### Conditionals Cheat Sheet\n",
    "\n",
    "We took a look at some of the built-in Python operators that allow us to compare values, and some logical operators we can use to combine values. We also learned how to use operators in if-else-elif blocks. \n",
    "\n",
    "It’s a lot to learn but, with practice, it gets easier to remember it all. In the meantime, this handy cheat sheet gives you all the information you need at a glance. \n",
    "\n",
    "\n",
    "*Comparison operators:*\n",
    "\n",
    "- `a == b`: a is equal to b\n",
    "- `a != b`: a is different than b\n",
    "- `a < b`: a is smaller than b\n",
    "- `a <= b`: a is smaller or equal to b\n",
    "- `a > b`: a is bigger than b\n",
    "- `a >= b`: a is bigger or equal to b\n",
    "\n",
    "*Logical operators:*\n",
    "\n",
    "- `a and b`: True if both a and b are True. False otherwise.\n",
    "- `a or b`: True if either a or b or both are True. False if both are False.\n",
    "- `not a`: True if a is False, False if a is True.\n",
    "\n",
    "##### Branching blocks\n",
    "\n",
    "In Python, we branch our code using `if`, `else` and `elif`. This is the branching syntax:\n",
    "\n",
    "`if condition1:\n",
    "    if-block\n",
    "elif condition2:\n",
    "    elif-block\n",
    "else:\n",
    "    else-block`\n",
    "    \n",
    "*Remember:* The if-block will be executed if condition1 is True. The elif-block will be executed if condition1 is False and condition2 is True. The else block will be executed when all the specified conditions are false."
   ]
  },
  {
   "cell_type": "markdown",
   "metadata": {},
   "source": [
    "### 2.4 Graded Assessment\n",
    "\n",
    "1. Complete the function by filling in the missing parts. The color_translator function receives the name of a color, then prints its hexadecimal value. Currently, it only supports the three additive primary colors (red, green, blue), so it returns \"unknown\" for all other colors."
   ]
  },
  {
   "cell_type": "code",
   "execution_count": 29,
   "metadata": {},
   "outputs": [
    {
     "name": "stdout",
     "output_type": "stream",
     "text": [
      "#0000ff\n",
      "unknown\n",
      "#ff0000\n",
      "unknown\n",
      "#00ff00\n",
      "unknown\n"
     ]
    }
   ],
   "source": [
    "def color_translator(color):\n",
    "    if color == \"red\":\n",
    "        hex_color = \"#ff0000\"\n",
    "    elif color == \"green\":\n",
    "        hex_color = \"#00ff00\"\n",
    "    elif color == \"blue\":\n",
    "        hex_color = \"#0000ff\"\n",
    "    else:\n",
    "        hex_color = \"unknown\"\n",
    "    return hex_color\n",
    "\n",
    "print(color_translator(\"blue\")) # Should be #0000ff\n",
    "print(color_translator(\"yellow\")) # Should be unknown\n",
    "print(color_translator(\"red\")) # Should be #ff0000\n",
    "print(color_translator(\"black\")) # Should be unknown\n",
    "print(color_translator(\"green\")) # Should be #00ff00\n",
    "print(color_translator(\"\")) # Should be unknown"
   ]
  },
  {
   "cell_type": "markdown",
   "metadata": {},
   "source": [
    "2. What's the value of this Python expression: \"big\" > \"small\""
   ]
  },
  {
   "cell_type": "code",
   "execution_count": 30,
   "metadata": {},
   "outputs": [
    {
     "data": {
      "text/plain": [
       "False"
      ]
     },
     "execution_count": 30,
     "metadata": {},
     "output_type": "execute_result"
    }
   ],
   "source": [
    "\"big\" > \"small\""
   ]
  },
  {
   "cell_type": "markdown",
   "metadata": {},
   "source": [
    "3. What is the elif keyword used for? Ans: To handle more than two comparison cases."
   ]
  },
  {
   "cell_type": "markdown",
   "metadata": {},
   "source": [
    "4. Students in a class receive their grades as Pass/Fail. Scores of 60 or more (out of 100) mean that the grade is \"Pass\". For lower scores, the grade is \"Fail\". In addition, scores above 95 (not included) are graded as \"Top Score\". Fill in this function so that it returns the proper grade."
   ]
  },
  {
   "cell_type": "code",
   "execution_count": 31,
   "metadata": {},
   "outputs": [
    {
     "name": "stdout",
     "output_type": "stream",
     "text": [
      "Pass\n",
      "Fail\n",
      "Pass\n",
      "Pass\n",
      "Top Score\n",
      "Fail\n"
     ]
    }
   ],
   "source": [
    "def exam_grade(score):\n",
    "    if score > 95:\n",
    "        grade = \"Top Score\"\n",
    "    elif score >= 60:\n",
    "        grade = \"Pass\"\n",
    "    else:\n",
    "        grade = \"Fail\"\n",
    "    return grade\n",
    "\n",
    "print(exam_grade(65)) # Should be Pass\n",
    "print(exam_grade(55)) # Should be Fail\n",
    "print(exam_grade(60)) # Should be Pass\n",
    "print(exam_grade(95)) # Should be Pass\n",
    "print(exam_grade(100)) # Should be Top Score\n",
    "print(exam_grade(0)) # Should be Fail"
   ]
  },
  {
   "cell_type": "markdown",
   "metadata": {},
   "source": [
    "5. What's the value of this Python expression: 11 % 5? Ans: 1\n",
    "\n",
    "6. Complete the body of the *format_name* function. This function receives the first_name and last_name parameters and then returns a properly formatted string."
   ]
  },
  {
   "cell_type": "code",
   "execution_count": null,
   "metadata": {},
   "outputs": [],
   "source": [
    "def format_name(first_name, last_name):\n",
    "    if first_name != '' and last_name != '':\n",
    "        string = 'Name: ' + last_name + ', ' + first_name    \n",
    "    elif first_name!='' or last_name != '':\n",
    "        string = 'Name: ' + last_name + first_name    \n",
    "    else:\n",
    "        string = ''\n",
    "    return string \n",
    "\n",
    "print(format_name(\"Ernest\", \"Hemingway\"))\n",
    "# Should return the string \"Name: Hemingway, Ernest\"\n",
    "\n",
    "print(format_name(\"\", \"Madonna\"))\n",
    "# Should return the string \"Name: Madonna\""
   ]
  },
  {
   "cell_type": "markdown",
   "metadata": {},
   "source": [
    "7. The longest_word function is used to compare 3 words. It should return the word with the most number of characters (and the first in the list when they have the same length). Fill in the blank to make this happen."
   ]
  },
  {
   "cell_type": "code",
   "execution_count": null,
   "metadata": {},
   "outputs": [],
   "source": [
    "def longest_word(word1, word2, word3):\n",
    "    if len(word1) >= len(word2) and len(word1) >= len(word3):\n",
    "        word = word1\n",
    "    elif len(word2) >= len(word3):\n",
    "        word = word2\n",
    "    else:\n",
    "        word = word3\n",
    "    return(word)\n",
    "\n",
    "print(longest_word(\"chair\", \"couch\", \"table\"))\n",
    "print(longest_word(\"bed\", \"bath\", \"beyond\"))\n",
    "print(longest_word(\"laptop\", \"notebook\", \"desktop\"))"
   ]
  },
  {
   "cell_type": "markdown",
   "metadata": {},
   "source": [
    "8. What’s the output of the code bellow? Ans: 10"
   ]
  },
  {
   "cell_type": "code",
   "execution_count": 32,
   "metadata": {},
   "outputs": [
    {
     "name": "stdout",
     "output_type": "stream",
     "text": [
      "10\n"
     ]
    }
   ],
   "source": [
    "def sum(x, y):\n",
    "    return(x+y)\n",
    "\n",
    "print(sum(sum(1,2), sum(3,4)))"
   ]
  },
  {
   "cell_type": "markdown",
   "metadata": {},
   "source": [
    "9. What's the value of this Python expression?\n",
    "    ((10 >= 5*2) and (10 <= 5*2))\n",
    "    Ans: TRUE\n",
    "    \n",
    "    \n",
    "10. The fractional_part function divides the numerator by the denominator, and returns just the fractional part (a number between 0 and 1). Complete the body of the function so that it returns the right number. Note: Since division by 0 produces an error, if the denominator is 0, the function should return 0 instead of attempting the division."
   ]
  },
  {
   "cell_type": "code",
   "execution_count": 36,
   "metadata": {},
   "outputs": [
    {
     "name": "stdout",
     "output_type": "stream",
     "text": [
      "0.0\n",
      "0.25\n",
      "0.6666666666666667\n",
      "0.5\n",
      "0\n",
      "0.0\n"
     ]
    }
   ],
   "source": [
    "def fractional_part(numerator, denominator):\n",
    "    if denominator == 0:\n",
    "        return 0\n",
    "    else:\n",
    "        return numerator/denominator-numerator//denominator\n",
    "        \n",
    "\n",
    "print(fractional_part(5, 5)) # Should be 0\n",
    "print(fractional_part(5, 4)) # Should be 0.25\n",
    "print(fractional_part(5, 3)) # Should be 0.66...\n",
    "print(fractional_part(5, 2)) # Should be 0.5\n",
    "print(fractional_part(5, 0)) # Should be 0\n",
    "print(fractional_part(0, 5)) # Should be 0"
   ]
  },
  {
   "cell_type": "markdown",
   "metadata": {},
   "source": [
    "## Module 3 - Introduction to Loops\n",
    "\n",
    "In this module you'll explore the intricacies of loops in Python! You'll learn how to use while loops to continuously execute code, as well as how to identify infinite loop errors and how to fix them. You'll also learn to use for loops to iterate over data, and how to use the `range()` function with for loops. You'll also explore common errors when using for loops and how to fix them."
   ]
  }
 ],
 "metadata": {
  "kernelspec": {
   "display_name": "Python 3",
   "language": "python",
   "name": "python3"
  },
  "language_info": {
   "codemirror_mode": {
    "name": "ipython",
    "version": 3
   },
   "file_extension": ".py",
   "mimetype": "text/x-python",
   "name": "python",
   "nbconvert_exporter": "python",
   "pygments_lexer": "ipython3",
   "version": "3.8.5"
  }
 },
 "nbformat": 4,
 "nbformat_minor": 4
}

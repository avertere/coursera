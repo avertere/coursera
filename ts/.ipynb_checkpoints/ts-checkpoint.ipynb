{
 "cells": [
  {
   "cell_type": "markdown",
   "metadata": {},
   "source": [
    "### Outline\n",
    "This project has several sections and will provide you a concise introduction to time series concepts in R. We will learn the essential theory and also practice fitting the four main types of time series models, getting you up and running with all the basics in a little more than an hour!\n",
    "\n",
    "1. Introduction to Rhyme Environment\n",
    "2. Time Series Data Overview (Theory)\n",
    "3. Why Time Series? (Theory)\n",
    "4. Key Concepts: Autocorrelation / Autocovariance (Theory)\n",
    "5. Key Concepts: Stationarity (Theory)\n",
    "6. Checking for Stationarity (Practice)\n",
    "7. Transforming for Stationarity: Differencing (Practice)\n",
    "8. Transforming for Stationarity: Detrending (Practice)\n",
    "9. Basic Model Types: AR(p), MA(q), ARMA(p,q), ARIMA(p,d,q), Decomposition (Theory)\n",
    "10. Fitting AR / MA / ARMA / ARIMA models with the Box Jenkins Method (Theory)\n",
    "11. Box Jenkins Method: Checking for Stationarity (Practice)\n",
    "12. Box Jenkins Method: Transforming for Stationarity & Identifying Model Parameters (Practice)\n",
    "13. Box Jenkins Method: Checking the Residuals of the Model Fit (Practice)\n",
    "14. Making a Forecast for Each Model (Practice)\n",
    "15. Fitting STL (Seasonal Trend Loess) Decomposition Models (Practice)\n",
    "16. Where to go Next"
   ]
  },
  {
   "cell_type": "markdown",
   "metadata": {},
   "source": [
    "## Introduction to Rhyme Environment\n",
    "Now, let's load the R packages we will need for this project (they should be already installed on your virtual machine)."
   ]
  },
  {
   "cell_type": "code",
   "execution_count": 1,
   "metadata": {},
   "outputs": [
    {
     "name": "stderr",
     "output_type": "stream",
     "text": [
      "── \u001b[1mAttaching packages\u001b[22m ─────────────────────────────────────── tidyverse 1.3.0 ──\n",
      "\n",
      "\u001b[32m✔\u001b[39m \u001b[34mggplot2\u001b[39m 3.3.2     \u001b[32m✔\u001b[39m \u001b[34mpurrr  \u001b[39m 0.3.4\n",
      "\u001b[32m✔\u001b[39m \u001b[34mtibble \u001b[39m 3.0.3     \u001b[32m✔\u001b[39m \u001b[34mdplyr  \u001b[39m 1.0.2\n",
      "\u001b[32m✔\u001b[39m \u001b[34mtidyr  \u001b[39m 1.1.2     \u001b[32m✔\u001b[39m \u001b[34mstringr\u001b[39m 1.4.0\n",
      "\u001b[32m✔\u001b[39m \u001b[34mreadr  \u001b[39m 1.3.1     \u001b[32m✔\u001b[39m \u001b[34mforcats\u001b[39m 0.5.0\n",
      "\n",
      "── \u001b[1mConflicts\u001b[22m ────────────────────────────────────────── tidyverse_conflicts() ──\n",
      "\u001b[31m✖\u001b[39m \u001b[34mtidyr\u001b[39m::\u001b[32mextract()\u001b[39m   masks \u001b[34mmagrittr\u001b[39m::extract()\n",
      "\u001b[31m✖\u001b[39m \u001b[34mdplyr\u001b[39m::\u001b[32mfilter()\u001b[39m    masks \u001b[34mstats\u001b[39m::filter()\n",
      "\u001b[31m✖\u001b[39m \u001b[34mdplyr\u001b[39m::\u001b[32mlag()\u001b[39m       masks \u001b[34mstats\u001b[39m::lag()\n",
      "\u001b[31m✖\u001b[39m \u001b[34mpurrr\u001b[39m::\u001b[32mset_names()\u001b[39m masks \u001b[34mmagrittr\u001b[39m::set_names()\n",
      "\n",
      "Registered S3 method overwritten by 'quantmod':\n",
      "  method            from\n",
      "  as.zoo.data.frame zoo \n",
      "\n"
     ]
    }
   ],
   "source": [
    "#load required r packages\n",
    "\n",
    "library(IRdisplay)\n",
    "library(magrittr)\n",
    "library(tidyverse)\n",
    "library(scales)\n",
    "library(gridExtra)\n",
    "library(forecast)\n",
    "library(tseries)\n",
    "library(ggthemes)\n",
    "theme_set(theme_economist())\n",
    "\n",
    "#load helper R functions\n",
    "source(\"functions/compare_models_function.R\")\n",
    "source(\"functions/sim_random_walk_function.R\")\n",
    "source(\"functions/sim_stationary_example_function.R\")\n",
    "\n",
    "# print(\"Loading is completed\")"
   ]
  },
  {
   "cell_type": "markdown",
   "metadata": {},
   "source": [
    "## Time Series Data Overview\n",
    "\n",
    "(Univariate) time series data is defined as sequence data over time:  ??1,??2,...,???? \n",
    "where  ??  is the time period and  ????  is the value of the time series at a particular point\n",
    "\n",
    "Examples: daily temperatures in Boston, US presidential election turnout by year, minute stock prices\n",
    "\n",
    "Variables in time series models generally fall into three categories:\n",
    "\n",
    "(1) endogenous\n",
    "\n",
    "(2) random noise\n",
    "\n",
    "(3) exogenous\n",
    "\n",
    "All time series models involve (1) and (2) but (3) is optional."
   ]
  },
  {
   "cell_type": "markdown",
   "metadata": {},
   "source": [
    "## Why Time Series?\n",
    "\n",
    "The answer is that:\n",
    "\n",
    "(1) many forecasting tasks actually involve small samples which makes machine learning less effective\n",
    "\n",
    "(2) time series models are more interpretable and less black box than machine learning algorithms\n",
    "\n",
    "(2) time series appropriately accounts for forecasting uncertainty.\n",
    "\n",
    "As an example, lets look at the following data generating process known as a random walk:  ????=????-1+???? \n",
    "We can compare the forecasting performance of linear regression to that of a basic time series model known as an AR(1) model."
   ]
  },
  {
   "cell_type": "code",
   "execution_count": 2,
   "metadata": {},
   "outputs": [],
   "source": [
    "#run function to compare linea\n",
    "# compare.models(n=100)"
   ]
  },
  {
   "cell_type": "markdown",
   "metadata": {},
   "source": [
    "## Key Concepts: Autocorrelation/Autocovariance\n",
    "\n",
    "Autocorrelation/autocovariance refers to the correlation/covariance between two observations in the time series at different points.\n",
    "\n",
    "The central idea behind it is how related the data/time series is over time.\n",
    "\n",
    "For ease of interpretation we typically focus on autocorrelation i.e. what is the correlation between  $X_t$  and  $X_{t+p}$  for some integer  $p$.\n",
    "\n",
    "A related concept is partial autocorrelation that computes the correlation adjusting for previous lags/periods i.e. the autocorrelation between  $X_{t}$  and  $X_{t+p}$  adjusting for the correlation of  $X_{t}$  and  $X_{t+1},\\ldots, X_{t+p-1}$.\n",
    "\n",
    "When analyzing time series we usually view autocorrelation/partial autocorrelation in ACF/PACF plots.\n",
    "\n",
    "Let's view this for the random walk model we analyzed above:  $X_{t}=X_{t-1}+\\epsilon_t$."
   ]
  },
  {
   "cell_type": "code",
   "execution_count": 3,
   "metadata": {},
   "outputs": [],
   "source": [
    "#simulate random walk\n",
    "# dat<-sim.random.walk()\n",
    "\n",
    "#plot random walk\n",
    "# dat %>% ggplot(aes(t,X)) + geom_line() + xlab(\"T\") + ylab(\"X\") + ggtitle(\"Time Series Plot\")"
   ]
  },
  {
   "cell_type": "code",
   "execution_count": 4,
   "metadata": {},
   "outputs": [],
   "source": [
    "#ACF plot\n",
    "# ggAcf(dat$X,type=\"correlation\") + ggtitle(\"Autocorrelation ACF Plot\")"
   ]
  },
  {
   "cell_type": "code",
   "execution_count": 5,
   "metadata": {},
   "outputs": [],
   "source": [
    "#PACF plot\n",
    "# ggAcf(dat$X,type=\"partial\") + ggtitle(\"Partial Autocorrelation PACF Plot\")"
   ]
  },
  {
   "cell_type": "markdown",
   "metadata": {},
   "source": [
    "## Key Concepts: Stationarity\n",
    "\n",
    "The second key concept in time series is stationarity.\n",
    "\n",
    "While the concept can get quite technical, the basic idea is examining whether the distribution of the data over time is consistent.\n",
    "\n",
    "There are two main forms of stationarity.\n",
    "\n",
    "(1) Strict stationarity imples:\n",
    "\n",
    "The cumulative distribution function of the data does not depend on time:\n",
    "\n",
    "????(??1,...,????)=????(??1+?,...,????+?)   ???R \n",
    "\n",
    "(2) Weak stationarity implies:\n",
    "\n",
    "the mean of the time series is constant\n",
    "??(????)=??(????+?) \n",
    "the autocovariance/autocorrelation only depends on the time difference between points\n",
    "??????(????,????+?-1)=??????(??1,???) \n",
    "the time series has a finite variance\n",
    "??????(???)<8   ???R \n",
    "\n",
    "## Checking for Stationarity"
   ]
  },
  {
   "cell_type": "code",
   "execution_count": 6,
   "metadata": {},
   "outputs": [],
   "source": [
    "#create three time series for example\n",
    "# df<-sim.stationary.example(n=1000)"
   ]
  },
  {
   "cell_type": "markdown",
   "metadata": {},
   "source": [
    "- Check a plot of the time series over time and look for constant mean and finite variance i.e. values appear bounded."
   ]
  },
  {
   "cell_type": "code",
   "execution_count": 7,
   "metadata": {},
   "outputs": [],
   "source": [
    "#plot nonstationary and stationary time series"
   ]
  },
  {
   "cell_type": "markdown",
   "metadata": {},
   "source": [
    "- Look at the ACF plot and see if it dies off quickly as opposed to a gradual decline."
   ]
  },
  {
   "cell_type": "code",
   "execution_count": 8,
   "metadata": {},
   "outputs": [],
   "source": [
    "#ACF for nonstationary and stationary time series\n"
   ]
  },
  {
   "cell_type": "markdown",
   "metadata": {},
   "source": [
    "- Perform unit root tests such as the Augmented Dickey-Fuller test."
   ]
  },
  {
   "cell_type": "code",
   "execution_count": 9,
   "metadata": {},
   "outputs": [],
   "source": [
    "#perform unit test; nonstationary example has large, non-significant p-value"
   ]
  },
  {
   "cell_type": "code",
   "execution_count": 10,
   "metadata": {},
   "outputs": [],
   "source": [
    "#perform unit test; stationary example has small, significant p-value"
   ]
  },
  {
   "cell_type": "markdown",
   "metadata": {},
   "source": [
    "## Transforming for Stationarity\n",
    "\n",
    "### Differencing\n",
    "\n",
    "Differencing involves taking differences between successive time series values.\n",
    "\n",
    "The order of differencing is defined as p for  ????-????-?? .\n",
    "\n",
    "Let's transform a nonstationary time series to stationary by differencing with the random walk model.\n",
    "\n",
    "In a random walk  ????=????-1+????  where  ????~??(0,??2)  iid.\n",
    "\n",
    "Differencing with an order of one means that  ??~ ??=????-????-1=???? ."
   ]
  },
  {
   "cell_type": "code",
   "execution_count": 11,
   "metadata": {},
   "outputs": [],
   "source": [
    "#difference time series to make stationary\n"
   ]
  },
  {
   "cell_type": "code",
   "execution_count": 12,
   "metadata": {},
   "outputs": [],
   "source": [
    "#plot original and differenced time series"
   ]
  },
  {
   "cell_type": "markdown",
   "metadata": {},
   "source": [
    "### Detrending\n",
    "\n",
    "Detrending involves removing a deterministic relationship with time.\n",
    "\n",
    "As an example suppose we have the following data generating process  ????=????+????  where  ????~??(0,??2)  iid.\n",
    "\n",
    "Detrending involves using the transformed time series  ??~ ??=????-????=???? ."
   ]
  },
  {
   "cell_type": "code",
   "execution_count": 13,
   "metadata": {},
   "outputs": [],
   "source": [
    "#detrend time series to make stationary"
   ]
  },
  {
   "cell_type": "code",
   "execution_count": 14,
   "metadata": {},
   "outputs": [],
   "source": [
    "#plot original and detrended time series\n"
   ]
  },
  {
   "cell_type": "markdown",
   "metadata": {},
   "source": [
    "## Basic Model Types: AR(p), MA(q), ARMA(p,q), ARIMA(p,d,q), Decomposition\n",
    "\n",
    "### Autoregressive AR(p) Models\n",
    "AR models specify  ????  as a function of lagged time series values  ????-1 ,  ????-2 , ...\n",
    "\n",
    "i.e  ????=??+??1????-1+...+????????-??+???? \n",
    "where  ??  is a mean term and  ????~????????(0,??2)  is a random error.\n",
    "\n",
    "When fitting an AR model the key choice is p, the number of lags to include.\n",
    "\n",
    "### Moving Average MA(q) Models\n",
    "MA models specify  ????  using random noise lags:\n",
    "\n",
    "????=??+????+T1????-1+...+T??????-?? \n",
    "where  ??  is a mean term and  ????~????????(0,??2)  is a random error.\n",
    "\n",
    "Similar to an AR model, when fitting an MA model the key choice is q, the number of random shock lags.\n",
    "\n",
    "### Autoregressive Moving Average ARMA(p,q) Models\n",
    "ARMA(p,q) models are a combination of an AR and MA model:\n",
    "\n",
    "????=??+??1????-1+...+????????-??+????+T1????-1+...+T??????-?? \n",
    "where  ??  is a mean term and  ????~????????(0,??2)  is a random error.\n",
    "\n",
    "When fitting an ARMA model, we need to choose two things: p, the number of AR lags, and q, the number of MA lags.\n",
    "\n",
    "### Autoregressive Integrated Moving Average ARIMA(p,d,q) Models\n",
    "ARIMA(p,d,q) is an ARMA model with differencing.\n",
    "\n",
    "When fitting an ARIMA model we need to choose three things: p, the number of AR lags, q, the number of MA lags, and d, the number of differences to use.\n",
    "\n",
    "### Decomposition Models\n",
    "Decomposition models specify  ????  as a combination of a trend component ( ???? ), seasonal component ( ???? ), and an error component/residual ( ???? ) i.e.  ????=??(????,????,????) .\n",
    "\n",
    "Common decomposition forms are:  ????=????+????+????  or  ????=????*????*????  (where then take logs to recover the additive form).\n",
    "\n",
    "There are various ways to estimate the different trend components: exponential smoothing, state space models/Kalman filtering, STL models, etc.\n",
    "\n",
    "In this project we will cover STL models because of their ease of use and flexibility.\n",
    "\n",
    "## Fitting AR/MA/ARMA/ARIMA models with the Box Jenkins Method\n",
    "We will now go over how to fit AR/MA/ARMA/ARIMA models on a real data set and review a generic strategy for fitting them known as the Box Jenkins method.\n",
    "\n",
    "This process involves several steps to help identify the p, d, and q parameters that we need:\n",
    "\n",
    "- Identify whether the time series is stationary or not\n",
    "\n",
    "- Identify p, d, and q of the time series by\n",
    "\n",
    "  - Making the the time series stationary through differencing/detrending to find d\n",
    "\n",
    "  - Looking at ACF/PACF to find p and q\n",
    "\n",
    "  - Using model fit diagnostics like AIC or BIC to select the best model to find p, d, and q\n",
    "\n",
    "- Check the model fit using the Ljung-Box test"
   ]
  },
  {
   "cell_type": "code",
   "execution_count": 15,
   "metadata": {},
   "outputs": [],
   "source": [
    "#load data\n"
   ]
  },
  {
   "cell_type": "code",
   "execution_count": 16,
   "metadata": {},
   "outputs": [],
   "source": [
    "#check date class\n"
   ]
  },
  {
   "cell_type": "code",
   "execution_count": 17,
   "metadata": {},
   "outputs": [],
   "source": [
    "#change date class to date type"
   ]
  },
  {
   "cell_type": "markdown",
   "metadata": {},
   "source": [
    "### Checking for Stationarity"
   ]
  },
  {
   "cell_type": "code",
   "execution_count": 18,
   "metadata": {},
   "outputs": [],
   "source": [
    "#check time series plot"
   ]
  },
  {
   "cell_type": "code",
   "execution_count": 19,
   "metadata": {},
   "outputs": [],
   "source": [
    "#check ACF plot\n"
   ]
  },
  {
   "cell_type": "code",
   "execution_count": 20,
   "metadata": {},
   "outputs": [],
   "source": [
    "#run ADF test"
   ]
  },
  {
   "cell_type": "markdown",
   "metadata": {},
   "source": [
    "### Transforming for Stationarity & Identifying Model Parameters"
   ]
  },
  {
   "cell_type": "code",
   "execution_count": 21,
   "metadata": {},
   "outputs": [],
   "source": [
    "#fit AR model\n",
    "\n",
    "#fit MA model\n",
    "\n",
    "#fit ARMA model\n",
    "\n",
    "#fit ARIMA model"
   ]
  },
  {
   "cell_type": "markdown",
   "metadata": {},
   "source": [
    "### Checking the Residuals of the Model Fit"
   ]
  },
  {
   "cell_type": "code",
   "execution_count": 22,
   "metadata": {},
   "outputs": [],
   "source": [
    "#calculate residuals of each model\n",
    "\n",
    "#plot PACF plot of each models residuals\n",
    "\n",
    "#run the Ljung Box test on the residuals"
   ]
  },
  {
   "cell_type": "markdown",
   "metadata": {},
   "source": [
    "### Making a forecast for each model"
   ]
  },
  {
   "cell_type": "code",
   "execution_count": 23,
   "metadata": {},
   "outputs": [],
   "source": [
    "#make forecast for each model\n",
    "\n",
    "#plot forecast for each model\n"
   ]
  },
  {
   "cell_type": "markdown",
   "metadata": {},
   "source": [
    "## Fitting Seasonal Trend Loess (STL) Decomposition Models"
   ]
  },
  {
   "cell_type": "code",
   "execution_count": 24,
   "metadata": {},
   "outputs": [],
   "source": [
    "#transform to time series object; need to specify frequency\n",
    "\n",
    "#fit stil model\n",
    "\n",
    "#plot model fit\n",
    "\n",
    "#make forecast\n"
   ]
  },
  {
   "cell_type": "markdown",
   "metadata": {},
   "source": [
    "## Where to go Next\n",
    "- Advanced time series models\n",
    "  - ARCH, GARCH, etc. that model changing variance over time\n",
    "- Vector Autoregression (VAR)\n",
    "  - For multivariate i.e. multiple time series and modeling dependencies between them\n",
    "- Machine Learning\n",
    "  - How to do CV with time series\n",
    "  - Neural networks for sequence data (LSTMs, etc.)\n",
    "- Spatial Statistics\n",
    "  - Generalize time dependence to spatial dependence in multiple dimensions\n",
    "- Econometrics\n",
    "  - Cointegration\n",
    "  - Granger Causality\n",
    "  - Serial correlation\n",
    "  - Regression with time series data\n",
    "- Bayesian time series"
   ]
  }
 ],
 "metadata": {
  "kernelspec": {
   "display_name": "R",
   "language": "R",
   "name": "ir"
  },
  "language_info": {
   "codemirror_mode": "r",
   "file_extension": ".r",
   "mimetype": "text/x-r-source",
   "name": "R",
   "pygments_lexer": "r",
   "version": "3.6.3"
  }
 },
 "nbformat": 4,
 "nbformat_minor": 4
}
